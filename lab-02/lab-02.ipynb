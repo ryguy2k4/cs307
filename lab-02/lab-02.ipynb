{
 "cells": [
  {
   "cell_type": "markdown",
   "metadata": {},
   "source": [
    "# Lab 02 - Weather"
   ]
  },
  {
   "cell_type": "markdown",
   "metadata": {},
   "source": [
    "---\n",
    "embed-resources: true\n",
    "---"
   ]
  },
  {
   "cell_type": "markdown",
   "metadata": {},
   "source": [
    "## Introduction"
   ]
  },
  {
   "cell_type": "markdown",
   "metadata": {},
   "source": [
    "The purpose of this report is determine when the Urbana Farmers Market (Market at the Square) should transition to an indoor market as the weather gets colder. Weather data was collected using the Open-Meteo API, specifically, the [Historical Weather API](https://open-meteo.com/en/docs/historical-weather-api/). A k-nearest neighbors regression model will be used."
   ]
  },
  {
   "cell_type": "markdown",
   "metadata": {},
   "source": [
    "## Methods"
   ]
  },
  {
   "cell_type": "code",
   "execution_count": 1,
   "metadata": {},
   "outputs": [],
   "source": [
    "# imports\n",
    "import pandas as pd\n",
    "from sklearn.neighbors import KNeighborsRegressor\n",
    "from sklearn.metrics import root_mean_squared_error\n",
    "from joblib import dump\n",
    "import matplotlib.pyplot as plt"
   ]
  },
  {
   "cell_type": "markdown",
   "metadata": {},
   "source": [
    "### Data"
   ]
  },
  {
   "cell_type": "code",
   "execution_count": 2,
   "metadata": {},
   "outputs": [],
   "source": [
    "# load data\n",
    "weather_train = pd.read_parquet(\n",
    "    \"https://cs307.org/lab/data/weather-train.parquet\",\n",
    ")\n",
    "weather_vtrain = pd.read_parquet(\n",
    "    \"https://cs307.org/lab/data/weather-vtrain.parquet\",\n",
    ")\n",
    "weather_validation = pd.read_parquet(\n",
    "    \"https://cs307.org/lab/data/weather-validation.parquet\",\n",
    ")\n",
    "weather_test = pd.read_parquet(\n",
    "    \"https://cs307.org/lab/data/weather-test.parquet\",\n",
    ")"
   ]
  },
  {
   "cell_type": "markdown",
   "metadata": {},
   "source": [
    "The data contains one row per day for the years 2016 to 2024. The data is split by time: Train: 2016 - 2022, Validation-Train: 2016 - 2020, Validation: 2021 - 2022, Test: 2023, and Production: 2024. The variables considered are:\n",
    "\n",
    "#### Response\n",
    "\n",
    "**`temperature_2m_min`**\n",
    "\n",
    "- [float64] the minimum air temperature at 2 meters above ground for the day\n",
    "\n",
    "#### Features\n",
    "\n",
    "**`year`**\n",
    "\n",
    "- [int64] year , such as 2020\n",
    "\n",
    "**`day`**\n",
    "\n",
    "- [int64] day of the month, for example 20 for January 20\n",
    "\n",
    "**`day_of_year`**\n",
    "\n",
    "- [int64] day of the year, for example 100, which in non-leap years in is April 9"
   ]
  },
  {
   "cell_type": "code",
   "execution_count": 3,
   "metadata": {},
   "outputs": [
    {
     "data": {
      "text/html": [
       "<div>\n",
       "<style scoped>\n",
       "    .dataframe tbody tr th:only-of-type {\n",
       "        vertical-align: middle;\n",
       "    }\n",
       "\n",
       "    .dataframe tbody tr th {\n",
       "        vertical-align: top;\n",
       "    }\n",
       "\n",
       "    .dataframe thead th {\n",
       "        text-align: right;\n",
       "    }\n",
       "</style>\n",
       "<table border=\"1\" class=\"dataframe\">\n",
       "  <thead>\n",
       "    <tr style=\"text-align: right;\">\n",
       "      <th></th>\n",
       "      <th>temperature_2m_min</th>\n",
       "      <th>month</th>\n",
       "      <th>day</th>\n",
       "      <th>day_of_year</th>\n",
       "    </tr>\n",
       "    <tr>\n",
       "      <th>year</th>\n",
       "      <th></th>\n",
       "      <th></th>\n",
       "      <th></th>\n",
       "      <th></th>\n",
       "    </tr>\n",
       "  </thead>\n",
       "  <tbody>\n",
       "    <tr>\n",
       "      <th>2016</th>\n",
       "      <td>366</td>\n",
       "      <td>366</td>\n",
       "      <td>366</td>\n",
       "      <td>366</td>\n",
       "    </tr>\n",
       "    <tr>\n",
       "      <th>2017</th>\n",
       "      <td>365</td>\n",
       "      <td>365</td>\n",
       "      <td>365</td>\n",
       "      <td>365</td>\n",
       "    </tr>\n",
       "    <tr>\n",
       "      <th>2018</th>\n",
       "      <td>365</td>\n",
       "      <td>365</td>\n",
       "      <td>365</td>\n",
       "      <td>365</td>\n",
       "    </tr>\n",
       "    <tr>\n",
       "      <th>2019</th>\n",
       "      <td>365</td>\n",
       "      <td>365</td>\n",
       "      <td>365</td>\n",
       "      <td>365</td>\n",
       "    </tr>\n",
       "    <tr>\n",
       "      <th>2020</th>\n",
       "      <td>366</td>\n",
       "      <td>366</td>\n",
       "      <td>366</td>\n",
       "      <td>366</td>\n",
       "    </tr>\n",
       "    <tr>\n",
       "      <th>2021</th>\n",
       "      <td>365</td>\n",
       "      <td>365</td>\n",
       "      <td>365</td>\n",
       "      <td>365</td>\n",
       "    </tr>\n",
       "    <tr>\n",
       "      <th>2022</th>\n",
       "      <td>365</td>\n",
       "      <td>365</td>\n",
       "      <td>365</td>\n",
       "      <td>365</td>\n",
       "    </tr>\n",
       "  </tbody>\n",
       "</table>\n",
       "</div>"
      ],
      "text/plain": [
       "      temperature_2m_min  month  day  day_of_year\n",
       "year                                             \n",
       "2016                 366    366  366          366\n",
       "2017                 365    365  365          365\n",
       "2018                 365    365  365          365\n",
       "2019                 365    365  365          365\n",
       "2020                 366    366  366          366\n",
       "2021                 365    365  365          365\n",
       "2022                 365    365  365          365"
      ]
     },
     "execution_count": 3,
     "metadata": {},
     "output_type": "execute_result"
    }
   ],
   "source": [
    "weather_train.groupby('year').agg('count')"
   ]
  },
  {
   "cell_type": "markdown",
   "metadata": {},
   "source": [
    "Every year has an 365 observations, or 366 for leap years."
   ]
  },
  {
   "cell_type": "code",
   "execution_count": 4,
   "metadata": {},
   "outputs": [
    {
     "data": {
      "text/html": [
       "<div>\n",
       "<style scoped>\n",
       "    .dataframe tbody tr th:only-of-type {\n",
       "        vertical-align: middle;\n",
       "    }\n",
       "\n",
       "    .dataframe tbody tr th {\n",
       "        vertical-align: top;\n",
       "    }\n",
       "\n",
       "    .dataframe thead th {\n",
       "        text-align: right;\n",
       "    }\n",
       "</style>\n",
       "<table border=\"1\" class=\"dataframe\">\n",
       "  <thead>\n",
       "    <tr style=\"text-align: right;\">\n",
       "      <th></th>\n",
       "      <th>temperature_2m_min</th>\n",
       "      <th>month</th>\n",
       "      <th>day</th>\n",
       "      <th>day_of_year</th>\n",
       "    </tr>\n",
       "    <tr>\n",
       "      <th>year</th>\n",
       "      <th></th>\n",
       "      <th></th>\n",
       "      <th></th>\n",
       "      <th></th>\n",
       "    </tr>\n",
       "  </thead>\n",
       "  <tbody>\n",
       "    <tr>\n",
       "      <th>2016</th>\n",
       "      <td>8.793390</td>\n",
       "      <td>6.513661</td>\n",
       "      <td>15.756831</td>\n",
       "      <td>183.5</td>\n",
       "    </tr>\n",
       "    <tr>\n",
       "      <th>2017</th>\n",
       "      <td>8.399644</td>\n",
       "      <td>6.526027</td>\n",
       "      <td>15.720548</td>\n",
       "      <td>183.0</td>\n",
       "    </tr>\n",
       "    <tr>\n",
       "      <th>2018</th>\n",
       "      <td>7.591013</td>\n",
       "      <td>6.526027</td>\n",
       "      <td>15.720548</td>\n",
       "      <td>183.0</td>\n",
       "    </tr>\n",
       "    <tr>\n",
       "      <th>2019</th>\n",
       "      <td>7.229781</td>\n",
       "      <td>6.526027</td>\n",
       "      <td>15.720548</td>\n",
       "      <td>183.0</td>\n",
       "    </tr>\n",
       "    <tr>\n",
       "      <th>2020</th>\n",
       "      <td>7.684612</td>\n",
       "      <td>6.513661</td>\n",
       "      <td>15.756831</td>\n",
       "      <td>183.5</td>\n",
       "    </tr>\n",
       "    <tr>\n",
       "      <th>2021</th>\n",
       "      <td>8.119370</td>\n",
       "      <td>6.526027</td>\n",
       "      <td>15.720548</td>\n",
       "      <td>183.0</td>\n",
       "    </tr>\n",
       "    <tr>\n",
       "      <th>2022</th>\n",
       "      <td>7.010192</td>\n",
       "      <td>6.526027</td>\n",
       "      <td>15.720548</td>\n",
       "      <td>183.0</td>\n",
       "    </tr>\n",
       "  </tbody>\n",
       "</table>\n",
       "</div>"
      ],
      "text/plain": [
       "      temperature_2m_min     month        day  day_of_year\n",
       "year                                                      \n",
       "2016            8.793390  6.513661  15.756831        183.5\n",
       "2017            8.399644  6.526027  15.720548        183.0\n",
       "2018            7.591013  6.526027  15.720548        183.0\n",
       "2019            7.229781  6.526027  15.720548        183.0\n",
       "2020            7.684612  6.513661  15.756831        183.5\n",
       "2021            8.119370  6.526027  15.720548        183.0\n",
       "2022            7.010192  6.526027  15.720548        183.0"
      ]
     },
     "execution_count": 4,
     "metadata": {},
     "output_type": "execute_result"
    }
   ],
   "source": [
    "weather_train.groupby('year').agg('mean')"
   ]
  },
  {
   "cell_type": "markdown",
   "metadata": {},
   "source": [
    "We see that the mean minimum temperature varies from year to year."
   ]
  },
  {
   "cell_type": "code",
   "execution_count": 5,
   "metadata": {},
   "outputs": [
    {
     "data": {
      "text/html": [
       "<div>\n",
       "<style scoped>\n",
       "    .dataframe tbody tr th:only-of-type {\n",
       "        vertical-align: middle;\n",
       "    }\n",
       "\n",
       "    .dataframe tbody tr th {\n",
       "        vertical-align: top;\n",
       "    }\n",
       "\n",
       "    .dataframe thead th {\n",
       "        text-align: right;\n",
       "    }\n",
       "</style>\n",
       "<table border=\"1\" class=\"dataframe\">\n",
       "  <thead>\n",
       "    <tr style=\"text-align: right;\">\n",
       "      <th></th>\n",
       "      <th>temperature_2m_min</th>\n",
       "      <th>month</th>\n",
       "      <th>day</th>\n",
       "      <th>day_of_year</th>\n",
       "    </tr>\n",
       "    <tr>\n",
       "      <th>year</th>\n",
       "      <th></th>\n",
       "      <th></th>\n",
       "      <th></th>\n",
       "      <th></th>\n",
       "    </tr>\n",
       "  </thead>\n",
       "  <tbody>\n",
       "    <tr>\n",
       "      <th>2016</th>\n",
       "      <td>10.274506</td>\n",
       "      <td>3.455958</td>\n",
       "      <td>8.823592</td>\n",
       "      <td>105.799338</td>\n",
       "    </tr>\n",
       "    <tr>\n",
       "      <th>2017</th>\n",
       "      <td>9.692305</td>\n",
       "      <td>3.452584</td>\n",
       "      <td>8.808321</td>\n",
       "      <td>105.510663</td>\n",
       "    </tr>\n",
       "    <tr>\n",
       "      <th>2018</th>\n",
       "      <td>11.369452</td>\n",
       "      <td>3.452584</td>\n",
       "      <td>8.808321</td>\n",
       "      <td>105.510663</td>\n",
       "    </tr>\n",
       "    <tr>\n",
       "      <th>2019</th>\n",
       "      <td>10.882259</td>\n",
       "      <td>3.452584</td>\n",
       "      <td>8.808321</td>\n",
       "      <td>105.510663</td>\n",
       "    </tr>\n",
       "    <tr>\n",
       "      <th>2020</th>\n",
       "      <td>9.383594</td>\n",
       "      <td>3.455958</td>\n",
       "      <td>8.823592</td>\n",
       "      <td>105.799338</td>\n",
       "    </tr>\n",
       "    <tr>\n",
       "      <th>2021</th>\n",
       "      <td>10.388490</td>\n",
       "      <td>3.452584</td>\n",
       "      <td>8.808321</td>\n",
       "      <td>105.510663</td>\n",
       "    </tr>\n",
       "    <tr>\n",
       "      <th>2022</th>\n",
       "      <td>11.028170</td>\n",
       "      <td>3.452584</td>\n",
       "      <td>8.808321</td>\n",
       "      <td>105.510663</td>\n",
       "    </tr>\n",
       "  </tbody>\n",
       "</table>\n",
       "</div>"
      ],
      "text/plain": [
       "      temperature_2m_min     month       day  day_of_year\n",
       "year                                                     \n",
       "2016           10.274506  3.455958  8.823592   105.799338\n",
       "2017            9.692305  3.452584  8.808321   105.510663\n",
       "2018           11.369452  3.452584  8.808321   105.510663\n",
       "2019           10.882259  3.452584  8.808321   105.510663\n",
       "2020            9.383594  3.455958  8.823592   105.799338\n",
       "2021           10.388490  3.452584  8.808321   105.510663\n",
       "2022           11.028170  3.452584  8.808321   105.510663"
      ]
     },
     "execution_count": 5,
     "metadata": {},
     "output_type": "execute_result"
    }
   ],
   "source": [
    "weather_train.groupby('year').agg('std')"
   ]
  },
  {
   "cell_type": "markdown",
   "metadata": {},
   "source": [
    "We see that the standard deviation of the minimum temperature varies from year to year."
   ]
  },
  {
   "cell_type": "code",
   "execution_count": 6,
   "metadata": {},
   "outputs": [
    {
     "data": {
      "text/html": [
       "<div>\n",
       "<style scoped>\n",
       "    .dataframe tbody tr th:only-of-type {\n",
       "        vertical-align: middle;\n",
       "    }\n",
       "\n",
       "    .dataframe tbody tr th {\n",
       "        vertical-align: top;\n",
       "    }\n",
       "\n",
       "    .dataframe thead th {\n",
       "        text-align: right;\n",
       "    }\n",
       "</style>\n",
       "<table border=\"1\" class=\"dataframe\">\n",
       "  <thead>\n",
       "    <tr style=\"text-align: right;\">\n",
       "      <th></th>\n",
       "      <th>temperature_2m_min</th>\n",
       "      <th>year</th>\n",
       "      <th>day</th>\n",
       "      <th>day_of_year</th>\n",
       "    </tr>\n",
       "    <tr>\n",
       "      <th>month</th>\n",
       "      <th></th>\n",
       "      <th></th>\n",
       "      <th></th>\n",
       "      <th></th>\n",
       "    </tr>\n",
       "  </thead>\n",
       "  <tbody>\n",
       "    <tr>\n",
       "      <th>1</th>\n",
       "      <td>-5.416767</td>\n",
       "      <td>2019.000000</td>\n",
       "      <td>16.000000</td>\n",
       "      <td>16.000000</td>\n",
       "    </tr>\n",
       "    <tr>\n",
       "      <th>2</th>\n",
       "      <td>-4.380614</td>\n",
       "      <td>2018.989899</td>\n",
       "      <td>14.646465</td>\n",
       "      <td>45.646465</td>\n",
       "    </tr>\n",
       "    <tr>\n",
       "      <th>3</th>\n",
       "      <td>1.522173</td>\n",
       "      <td>2019.000000</td>\n",
       "      <td>16.000000</td>\n",
       "      <td>75.285714</td>\n",
       "    </tr>\n",
       "    <tr>\n",
       "      <th>4</th>\n",
       "      <td>5.925214</td>\n",
       "      <td>2019.000000</td>\n",
       "      <td>15.500000</td>\n",
       "      <td>105.785714</td>\n",
       "    </tr>\n",
       "    <tr>\n",
       "      <th>5</th>\n",
       "      <td>12.639454</td>\n",
       "      <td>2019.000000</td>\n",
       "      <td>16.000000</td>\n",
       "      <td>136.285714</td>\n",
       "    </tr>\n",
       "    <tr>\n",
       "      <th>6</th>\n",
       "      <td>18.211405</td>\n",
       "      <td>2019.000000</td>\n",
       "      <td>15.500000</td>\n",
       "      <td>166.785714</td>\n",
       "    </tr>\n",
       "    <tr>\n",
       "      <th>7</th>\n",
       "      <td>19.998209</td>\n",
       "      <td>2019.000000</td>\n",
       "      <td>16.000000</td>\n",
       "      <td>197.285714</td>\n",
       "    </tr>\n",
       "    <tr>\n",
       "      <th>8</th>\n",
       "      <td>19.088070</td>\n",
       "      <td>2019.000000</td>\n",
       "      <td>16.000000</td>\n",
       "      <td>228.285714</td>\n",
       "    </tr>\n",
       "    <tr>\n",
       "      <th>9</th>\n",
       "      <td>16.571642</td>\n",
       "      <td>2019.000000</td>\n",
       "      <td>15.500000</td>\n",
       "      <td>258.785714</td>\n",
       "    </tr>\n",
       "    <tr>\n",
       "      <th>10</th>\n",
       "      <td>9.756274</td>\n",
       "      <td>2019.000000</td>\n",
       "      <td>16.000000</td>\n",
       "      <td>289.285714</td>\n",
       "    </tr>\n",
       "    <tr>\n",
       "      <th>11</th>\n",
       "      <td>1.888310</td>\n",
       "      <td>2019.000000</td>\n",
       "      <td>15.500000</td>\n",
       "      <td>319.785714</td>\n",
       "    </tr>\n",
       "    <tr>\n",
       "      <th>12</th>\n",
       "      <td>-2.514693</td>\n",
       "      <td>2019.000000</td>\n",
       "      <td>16.000000</td>\n",
       "      <td>350.285714</td>\n",
       "    </tr>\n",
       "  </tbody>\n",
       "</table>\n",
       "</div>"
      ],
      "text/plain": [
       "       temperature_2m_min         year        day  day_of_year\n",
       "month                                                         \n",
       "1               -5.416767  2019.000000  16.000000    16.000000\n",
       "2               -4.380614  2018.989899  14.646465    45.646465\n",
       "3                1.522173  2019.000000  16.000000    75.285714\n",
       "4                5.925214  2019.000000  15.500000   105.785714\n",
       "5               12.639454  2019.000000  16.000000   136.285714\n",
       "6               18.211405  2019.000000  15.500000   166.785714\n",
       "7               19.998209  2019.000000  16.000000   197.285714\n",
       "8               19.088070  2019.000000  16.000000   228.285714\n",
       "9               16.571642  2019.000000  15.500000   258.785714\n",
       "10               9.756274  2019.000000  16.000000   289.285714\n",
       "11               1.888310  2019.000000  15.500000   319.785714\n",
       "12              -2.514693  2019.000000  16.000000   350.285714"
      ]
     },
     "execution_count": 6,
     "metadata": {},
     "output_type": "execute_result"
    }
   ],
   "source": [
    "weather_train.groupby('month').agg('mean')"
   ]
  },
  {
   "cell_type": "markdown",
   "metadata": {},
   "source": [
    "We see that the mean minimum temperature varies from month to month."
   ]
  },
  {
   "cell_type": "code",
   "execution_count": 7,
   "metadata": {},
   "outputs": [
    {
     "data": {
      "text/html": [
       "<div>\n",
       "<style scoped>\n",
       "    .dataframe tbody tr th:only-of-type {\n",
       "        vertical-align: middle;\n",
       "    }\n",
       "\n",
       "    .dataframe tbody tr th {\n",
       "        vertical-align: top;\n",
       "    }\n",
       "\n",
       "    .dataframe thead th {\n",
       "        text-align: right;\n",
       "    }\n",
       "</style>\n",
       "<table border=\"1\" class=\"dataframe\">\n",
       "  <thead>\n",
       "    <tr style=\"text-align: right;\">\n",
       "      <th></th>\n",
       "      <th>temperature_2m_min</th>\n",
       "      <th>year</th>\n",
       "      <th>day</th>\n",
       "      <th>day_of_year</th>\n",
       "    </tr>\n",
       "    <tr>\n",
       "      <th>month</th>\n",
       "      <th></th>\n",
       "      <th></th>\n",
       "      <th></th>\n",
       "      <th></th>\n",
       "    </tr>\n",
       "  </thead>\n",
       "  <tbody>\n",
       "    <tr>\n",
       "      <th>1</th>\n",
       "      <td>6.547430</td>\n",
       "      <td>2.004624</td>\n",
       "      <td>8.964952</td>\n",
       "      <td>8.964952</td>\n",
       "    </tr>\n",
       "    <tr>\n",
       "      <th>2</th>\n",
       "      <td>6.746121</td>\n",
       "      <td>2.007574</td>\n",
       "      <td>8.187291</td>\n",
       "      <td>8.187291</td>\n",
       "    </tr>\n",
       "    <tr>\n",
       "      <th>3</th>\n",
       "      <td>5.595675</td>\n",
       "      <td>2.004624</td>\n",
       "      <td>8.964952</td>\n",
       "      <td>8.976380</td>\n",
       "    </tr>\n",
       "    <tr>\n",
       "      <th>4</th>\n",
       "      <td>5.659612</td>\n",
       "      <td>2.004779</td>\n",
       "      <td>8.676124</td>\n",
       "      <td>8.687933</td>\n",
       "    </tr>\n",
       "    <tr>\n",
       "      <th>5</th>\n",
       "      <td>5.234890</td>\n",
       "      <td>2.004624</td>\n",
       "      <td>8.964952</td>\n",
       "      <td>8.976380</td>\n",
       "    </tr>\n",
       "    <tr>\n",
       "      <th>6</th>\n",
       "      <td>3.540279</td>\n",
       "      <td>2.004779</td>\n",
       "      <td>8.676124</td>\n",
       "      <td>8.687933</td>\n",
       "    </tr>\n",
       "    <tr>\n",
       "      <th>7</th>\n",
       "      <td>2.627939</td>\n",
       "      <td>2.004624</td>\n",
       "      <td>8.964952</td>\n",
       "      <td>8.976380</td>\n",
       "    </tr>\n",
       "    <tr>\n",
       "      <th>8</th>\n",
       "      <td>2.874603</td>\n",
       "      <td>2.004624</td>\n",
       "      <td>8.964952</td>\n",
       "      <td>8.976380</td>\n",
       "    </tr>\n",
       "    <tr>\n",
       "      <th>9</th>\n",
       "      <td>3.988397</td>\n",
       "      <td>2.004779</td>\n",
       "      <td>8.676124</td>\n",
       "      <td>8.687933</td>\n",
       "    </tr>\n",
       "    <tr>\n",
       "      <th>10</th>\n",
       "      <td>5.775242</td>\n",
       "      <td>2.004624</td>\n",
       "      <td>8.964952</td>\n",
       "      <td>8.976380</td>\n",
       "    </tr>\n",
       "    <tr>\n",
       "      <th>11</th>\n",
       "      <td>5.663248</td>\n",
       "      <td>2.004779</td>\n",
       "      <td>8.676124</td>\n",
       "      <td>8.687933</td>\n",
       "    </tr>\n",
       "    <tr>\n",
       "      <th>12</th>\n",
       "      <td>5.680540</td>\n",
       "      <td>2.004624</td>\n",
       "      <td>8.964952</td>\n",
       "      <td>8.976380</td>\n",
       "    </tr>\n",
       "  </tbody>\n",
       "</table>\n",
       "</div>"
      ],
      "text/plain": [
       "       temperature_2m_min      year       day  day_of_year\n",
       "month                                                     \n",
       "1                6.547430  2.004624  8.964952     8.964952\n",
       "2                6.746121  2.007574  8.187291     8.187291\n",
       "3                5.595675  2.004624  8.964952     8.976380\n",
       "4                5.659612  2.004779  8.676124     8.687933\n",
       "5                5.234890  2.004624  8.964952     8.976380\n",
       "6                3.540279  2.004779  8.676124     8.687933\n",
       "7                2.627939  2.004624  8.964952     8.976380\n",
       "8                2.874603  2.004624  8.964952     8.976380\n",
       "9                3.988397  2.004779  8.676124     8.687933\n",
       "10               5.775242  2.004624  8.964952     8.976380\n",
       "11               5.663248  2.004779  8.676124     8.687933\n",
       "12               5.680540  2.004624  8.964952     8.976380"
      ]
     },
     "execution_count": 7,
     "metadata": {},
     "output_type": "execute_result"
    }
   ],
   "source": [
    "weather_train.groupby('month').agg('std')"
   ]
  },
  {
   "cell_type": "markdown",
   "metadata": {},
   "source": [
    "We see that the standard deviation of the minimum temperature varies from month to month. Winter months seem to have a higher standard deviation in temperature than summer months. This is unfortunate for our purposes since we are interested in predicting temperatures in the colder months."
   ]
  },
  {
   "cell_type": "code",
   "execution_count": 8,
   "metadata": {},
   "outputs": [
    {
     "data": {
      "image/png": "[encoded data removed]",
      "text/plain": [
       "<Figure size 640x480 with 1 Axes>"
      ]
     },
     "metadata": {},
     "output_type": "display_data"
    }
   ],
   "source": [
    "# exploratory visualization\n",
    "plt.plot(weather_train.index, weather_train['temperature_2m_min'])\n",
    "plt.title(\"Minimum Temperature (C) vs Date\")\n",
    "plt.xlabel(\"Date\")\n",
    "plt.ylabel(\"Minimum Temperature (C)\")\n",
    "plt.show()"
   ]
  },
  {
   "cell_type": "markdown",
   "metadata": {},
   "source": [
    "This plot shows how the minumim temperature varies over time. There is a seasonal pattern, as expected."
   ]
  },
  {
   "cell_type": "markdown",
   "metadata": {},
   "source": [
    "### Models"
   ]
  },
  {
   "cell_type": "code",
   "execution_count": 9,
   "metadata": {},
   "outputs": [],
   "source": [
    "# process data for ML\n",
    "# create X and y for train\n",
    "X_train = weather_train[[\"year\", \"day_of_year\"]]\n",
    "y_train = weather_train[\"temperature_2m_min\"]\n",
    "\n",
    "# create X and y for validation-train\n",
    "X_vtrain = weather_vtrain[[\"year\", \"day_of_year\"]]\n",
    "y_vtrain = weather_vtrain[\"temperature_2m_min\"]\n",
    "\n",
    "# create X and y for validation\n",
    "X_validation = weather_validation[[\"year\", \"day_of_year\"]]\n",
    "y_validation = weather_validation[\"temperature_2m_min\"]\n",
    "\n",
    "# create X and y for test\n",
    "X_test = weather_test[[\"year\", \"day_of_year\"]]\n",
    "y_test = weather_test[\"temperature_2m_min\"]"
   ]
  },
  {
   "cell_type": "code",
   "execution_count": 10,
   "metadata": {},
   "outputs": [
    {
     "name": "stdout",
     "output_type": "stream",
     "text": [
      "Validation RMSE when k=1: 6.285232067108154\n",
      "Validation RMSE when k=5: 5.397881031036377\n",
      "Validation RMSE when k=10: 5.098583698272705\n",
      "Validation RMSE when k=25: 5.024857044219971\n",
      "Validation RMSE when k=100: 4.974940299987793\n",
      "Validation RMSE when k=250: 4.993910789489746\n"
     ]
    }
   ],
   "source": [
    "# train models\n",
    "# Pick Estimator -> KNN\n",
    "# Specify Params to Try\n",
    "k_values = [1,5,10,25,100,250]\n",
    "val_rmses = []\n",
    "\n",
    "# test each k value\n",
    "for k in k_values:\n",
    "    # instantiate estimator\n",
    "    knn = KNeighborsRegressor(n_neighbors=k, p=1)\n",
    "\n",
    "    # fit estimator\n",
    "    _ = knn.fit(X_vtrain, y_vtrain)\n",
    "\n",
    "    # get validation predictions\n",
    "    y_pred_val = knn.predict(X_validation)\n",
    "\n",
    "    # get validation rmse\n",
    "    val_rmse = root_mean_squared_error(y_validation, y_pred_val)\n",
    "    print(f\"Validation RMSE when k={k}: {val_rmse}\")\n",
    "    val_rmses.append(val_rmse)"
   ]
  },
  {
   "cell_type": "markdown",
   "metadata": {},
   "source": [
    "We consider 6 different models, using different numbers of nearest neighbors. Using k=100 yields the lowest root mean square error for the validation data, so we will select this model."
   ]
  },
  {
   "cell_type": "code",
   "execution_count": 11,
   "metadata": {},
   "outputs": [],
   "source": [
    "# select k=100 based on validation performace\n",
    "knn = KNeighborsRegressor(n_neighbors=100, p=1)\n",
    "_ = knn.fit(X_train, y_train)"
   ]
  },
  {
   "cell_type": "markdown",
   "metadata": {},
   "source": [
    "## Results"
   ]
  },
  {
   "cell_type": "code",
   "execution_count": 12,
   "metadata": {},
   "outputs": [
    {
     "data": {
      "text/plain": [
       "4.725839138031006"
      ]
     },
     "execution_count": 12,
     "metadata": {},
     "output_type": "execute_result"
    }
   ],
   "source": [
    "# report model metrics\n",
    "# evaluate test data\n",
    "y_pred_test = knn.predict(X_test)\n",
    "root_mean_squared_error(y_test, y_pred_test)"
   ]
  },
  {
   "cell_type": "markdown",
   "metadata": {},
   "source": [
    "The selected model achieves a test root mean square error of 4.7258 degrees Celsius."
   ]
  },
  {
   "cell_type": "code",
   "execution_count": 13,
   "metadata": {},
   "outputs": [
    {
     "data": {
      "image/png": "[encoded data removed]",
      "text/plain": [
       "<Figure size 640x480 with 1 Axes>"
      ]
     },
     "metadata": {},
     "output_type": "display_data"
    }
   ],
   "source": [
    "# summary figure\n",
    "plt.plot(X_test.index, y_pred_test, label='Predicted Temp')\n",
    "plt.plot(X_test.index, y_test, label='Actual Temp')\n",
    "plt.legend()\n",
    "plt.title(\"Minimum Temperature Model Evaluation\")\n",
    "plt.xlabel(\"Date\")\n",
    "plt.ylabel(\"Minimum Temperature (C)\")\n",
    "plt.show()"
   ]
  },
  {
   "cell_type": "markdown",
   "metadata": {},
   "source": [
    "This plot shows the predictions for our test data features vs the actual test data target. We see that the general shape is followed, but there is still lots of uncertainty."
   ]
  },
  {
   "cell_type": "code",
   "execution_count": 14,
   "metadata": {},
   "outputs": [
    {
     "data": {
      "text/plain": [
       "['weather.joblib']"
      ]
     },
     "execution_count": 14,
     "metadata": {},
     "output_type": "execute_result"
    }
   ],
   "source": [
    "# serialize model\n",
    "dump(knn, 'weather.joblib')"
   ]
  },
  {
   "cell_type": "markdown",
   "metadata": {},
   "source": [
    "## Discussion"
   ]
  },
  {
   "cell_type": "markdown",
   "metadata": {},
   "source": [
    "I would reccomend against putting this model into practice. This model provides little advantage over using historical averages, with an RMSE of 4.7 degrees Celsius (8.5 degrees Fahrenheit). In the summary statistics, we saw that in November and December the standard deviation in temperature is around 5.7 degrees Celsius (10.3 degrees Fahrenheit), showing that this model may be slightly better at predicting the temperature, on average. However, it is still not very close. For the purpose of deciding when to move the Urbana Farmers Market indoors as freezing temperatures arrive, an error of 8.5 degrees is the different between 30 degree Fahrenheit weather (below freezing), and 38 degree Fahrenheit weather (quite tolerable). Furthermore, this model provides absolutely zero advantages over using a 10-day weather forecast, which is far more accurate on account of more sophisticated models and available data. Putting this model into practice risks moving the market indoors too early, when a normal weather forecast might suggest otherwise. It would be impractical to advise improvements to this model in order to make it more fit for use, seeing as more sophisticated weather models already exist and are freely available."
   ]
  },
  {
   "cell_type": "markdown",
   "metadata": {},
   "source": []
  }
 ],
 "metadata": {
  "kernelspec": {
   "display_name": ".venv",
   "language": "python",
   "name": "python3"
  },
  "language_info": {
   "codemirror_mode": {
    "name": "ipython",
    "version": 3
   },
   "file_extension": ".py",
   "mimetype": "text/x-python",
   "name": "python",
   "nbconvert_exporter": "python",
   "pygments_lexer": "ipython3",
   "version": "3.12.5"
  }
 },
 "nbformat": 4,
 "nbformat_minor": 2
}
