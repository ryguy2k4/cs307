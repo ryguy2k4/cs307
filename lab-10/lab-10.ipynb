{
 "cells": [
  {
   "cell_type": "markdown",
   "metadata": {},
   "source": [
    "# Swing"
   ]
  },
  {
   "cell_type": "markdown",
   "metadata": {},
   "source": [
    "---\n",
    "embed-resources: true\n",
    "---"
   ]
  },
  {
   "cell_type": "markdown",
   "metadata": {},
   "source": [
    "## Introduction"
   ]
  },
  {
   "cell_type": "markdown",
   "metadata": {},
   "source": [
    "The purpose of this report is to develop an well-calibrated probability model that models the probability of a batter to swing given the characteristics of a thrown pitch as an internal MLB tool in the Research and Development department."
   ]
  },
  {
   "cell_type": "markdown",
   "metadata": {},
   "source": [
    "## Methods"
   ]
  },
  {
   "cell_type": "code",
   "execution_count": 150,
   "metadata": {},
   "outputs": [],
   "source": [
    "# imports\n",
    "import numpy as np\n",
    "import pandas as pd\n",
    "import matplotlib.pyplot as plt\n",
    "import seaborn as sns\n",
    "from joblib import dump\n",
    "\n",
    "from sklearn.pipeline import Pipeline\n",
    "from sklearn.compose import ColumnTransformer\n",
    "from sklearn.model_selection import GridSearchCV\n",
    "from sklearn.ensemble import RandomForestClassifier\n",
    "from sklearn.preprocessing import StandardScaler, OneHotEncoder\n",
    "from sklearn.impute import SimpleImputer\n",
    "from sklearn.linear_model import LogisticRegression\n",
    "\n",
    "from sklearn.metrics import log_loss\n",
    "from sklearn.metrics import brier_score_loss\n",
    "from sklearn.calibration import calibration_curve\n",
    "from sklearn.calibration import CalibratedClassifierCV\n",
    "from sklearn.metrics import accuracy_score"
   ]
  },
  {
   "cell_type": "markdown",
   "metadata": {},
   "source": [
    "### Data"
   ]
  },
  {
   "cell_type": "code",
   "execution_count": 151,
   "metadata": {},
   "outputs": [],
   "source": [
    "# load data\n",
    "swing_train = pd.read_parquet(\n",
    "    \"https://cs307.org/lab/data/swing-train.parquet\",\n",
    ")\n",
    "swing_test = pd.read_parquet(\n",
    "    \"https://cs307.org/lab/data/swing-test.parquet\",\n",
    ")\n",
    "\n",
    "# create X and y for train data\n",
    "X_train = swing_train.drop(columns=[\"swing\"])\n",
    "y_train = swing_train[\"swing\"]\n",
    "\n",
    "# create X and y for test data\n",
    "X_test = swing_test.drop(columns=[\"swing\"])\n",
    "y_test = swing_test[\"swing\"]"
   ]
  },
  {
   "cell_type": "markdown",
   "metadata": {},
   "source": [
    "Each observation in the dataset represents information about a pitch thrown by Zac Gallen. The data dictionary is detailed below.\n",
    "\n",
    "### Response\n",
    "**`swing`**\n",
    "- [int64] Whether or not the batter swung (1) or took (0).\n",
    "\n",
    "### Features\n",
    "\n",
    "#### Fully Pitcher Controlled\n",
    "**`pitch_name`**\n",
    "- [object] The name of the pitch type to be thrown.\n",
    "\n",
    "#### Mostly Pitcher Controlled\n",
    "**`release_extension`**\n",
    "- [float64] Release extension of pitch in feet as tracked by Statcast.\n",
    "\n",
    "**`release_pos_x`**\n",
    "- [float64] Horizontal Release Position of the ball measured in feet from the catcher’s perspective.\n",
    "\n",
    "**`release_pos_y`**\n",
    "- [float64] Release position of pitch measured in feet from the catcher’s perspective.\n",
    "\n",
    "**`release_pos_z`**\n",
    "- [float64] Vertical Release Position of the ball measured in feet from the catcher’s perspective.\n",
    "\n",
    "#### Somewhat Pitcher Controlled\n",
    "**`release_speed`**\n",
    "- [float64] Velocity of the pitch thrown.\n",
    "\n",
    "**`release_spin_rate`**\n",
    "- [float64] Spin rate of pitch tracked by Statcast.\n",
    "\n",
    "**`spin_axis`**\n",
    "- [float64] The spin axis in the 2D X-Z plane in degrees from 0 to 360, such that 180 represents a pure backspin fastball and 0 degrees represents a pure topspin (12-6) curveball.\n",
    "\n",
    "**`plate_x`**\n",
    "- [float64] Horizontal position of the ball when it crosses home plate from the catcher’s perspective.\n",
    "\n",
    "**~plate_z~**\n",
    "- [float64] Vertical position of the ball when it crosses home plate from the catcher’s perspective.\n",
    "\n",
    "#### Downstream Pitcher Controlled\n",
    "**`pfx_x`**\n",
    "- [float64] Horizontal movement in feet from the catcher’s perspective.\n",
    "\n",
    "**`pfx_z`**\n",
    "- [float64] Vertical movement in feet from the catcher’s perspective.\n",
    "\n",
    "#### Situational Information\n",
    "**`balls`**\n",
    "- [int64] Pre-pitch number of balls in count.\n",
    "\n",
    "**`strikes`**\n",
    "- [int64] Pre-pitch number of strikes in count.\n",
    "\n",
    "**`on_3b`**\n",
    "- [int64] Pre-pitch MLB Player Id of Runner on 3B.\n",
    "\n",
    "**`on_2b`**\n",
    "- [int64] Pre-pitch MLB Player Id of Runner on 2B.\n",
    "\n",
    "**`on_1b`**\n",
    "- [int64] Pre-pitch MLB Player Id of Runner on 1B.\n",
    "\n",
    "**`outs_when_up`**\n",
    "- [int64] Pre-pitch number of outs.\n",
    "\n",
    "### Fixed Batter Information\n",
    "**`stand`**\n",
    "- [object] Side of the plate batter is standing.\n",
    "\n",
    "**`sz_top`**\n",
    "- [float64] Top of the batter’s strike zone set by the operator when the ball is halfway to the plate.\n",
    "\n",
    "**`sz_bot`**\n",
    "- [float64] Bottom of the batter’s strike zone set by the operator when the ball is halfway to the plate."
   ]
  },
  {
   "cell_type": "code",
   "execution_count": 152,
   "metadata": {},
   "outputs": [
    {
     "data": {
      "text/plain": [
       "(2663, 21)"
      ]
     },
     "execution_count": 152,
     "metadata": {},
     "output_type": "execute_result"
    }
   ],
   "source": [
    "# summary statistics\n",
    "X_train.shape"
   ]
  },
  {
   "cell_type": "markdown",
   "metadata": {},
   "source": [
    "The dataset has 2663 rows and 21 features."
   ]
  },
  {
   "cell_type": "code",
   "execution_count": 153,
   "metadata": {},
   "outputs": [
    {
     "data": {
      "text/html": [
       "<div>\n",
       "<style scoped>\n",
       "    .dataframe tbody tr th:only-of-type {\n",
       "        vertical-align: middle;\n",
       "    }\n",
       "\n",
       "    .dataframe tbody tr th {\n",
       "        vertical-align: top;\n",
       "    }\n",
       "\n",
       "    .dataframe thead th {\n",
       "        text-align: right;\n",
       "    }\n",
       "</style>\n",
       "<table border=\"1\" class=\"dataframe\">\n",
       "  <thead>\n",
       "    <tr style=\"text-align: right;\">\n",
       "      <th></th>\n",
       "      <th>swing</th>\n",
       "    </tr>\n",
       "    <tr>\n",
       "      <th>pitch_name</th>\n",
       "      <th></th>\n",
       "    </tr>\n",
       "  </thead>\n",
       "  <tbody>\n",
       "    <tr>\n",
       "      <th>4-Seam Fastball</th>\n",
       "      <td>0.470904</td>\n",
       "    </tr>\n",
       "    <tr>\n",
       "      <th>Changeup</th>\n",
       "      <td>0.536313</td>\n",
       "    </tr>\n",
       "    <tr>\n",
       "      <th>Cutter</th>\n",
       "      <td>0.451477</td>\n",
       "    </tr>\n",
       "    <tr>\n",
       "      <th>Knuckle Curve</th>\n",
       "      <td>0.462875</td>\n",
       "    </tr>\n",
       "    <tr>\n",
       "      <th>Slider</th>\n",
       "      <td>0.496124</td>\n",
       "    </tr>\n",
       "  </tbody>\n",
       "</table>\n",
       "</div>"
      ],
      "text/plain": [
       "                    swing\n",
       "pitch_name               \n",
       "4-Seam Fastball  0.470904\n",
       "Changeup         0.536313\n",
       "Cutter           0.451477\n",
       "Knuckle Curve    0.462875\n",
       "Slider           0.496124"
      ]
     },
     "execution_count": 153,
     "metadata": {},
     "output_type": "execute_result"
    }
   ],
   "source": [
    "swing_train[['pitch_name', 'swing']].groupby('pitch_name').agg('mean')"
   ]
  },
  {
   "cell_type": "code",
   "execution_count": 154,
   "metadata": {},
   "outputs": [
    {
     "data": {
      "text/plain": [
       "np.float64(0.47728126173488544)"
      ]
     },
     "execution_count": 154,
     "metadata": {},
     "output_type": "execute_result"
    }
   ],
   "source": [
    "swing_train['swing'].mean()"
   ]
  },
  {
   "cell_type": "code",
   "execution_count": 155,
   "metadata": {},
   "outputs": [
    {
     "data": {
      "image/png": "[encoded data removed]",
      "text/plain": [
       "<Figure size 1000x600 with 1 Axes>"
      ]
     },
     "metadata": {},
     "output_type": "display_data"
    }
   ],
   "source": [
    "# | echo: false\n",
    "# | lightbox: true\n",
    "\n",
    "swing_proportions = swing_train.groupby('pitch_name')['swing'].mean().sort_values(ascending=False)\n",
    "# exploratory visualization\n",
    "plt.figure(figsize=(10, 6))\n",
    "sns.barplot(x=swing_proportions.index, y=swing_proportions.values)\n",
    "plt.title('Proportion of Swings by Pitch Type')\n",
    "plt.xlabel('Pitch Type')\n",
    "plt.ylabel('Proportion of Swings')\n",
    "plt.xticks(rotation=0)\n",
    "plt.show()"
   ]
  },
  {
   "cell_type": "markdown",
   "metadata": {},
   "source": [
    "This visualization shows the proportion of each swing type that results in a swing. The most common swing type is a fastball, which has a 0.5 probability of resulting in a swing. The least common swing type is a changeup, which has a 0.3 probability of resulting in a swing."
   ]
  },
  {
   "cell_type": "markdown",
   "metadata": {},
   "source": [
    "### Models"
   ]
  },
  {
   "cell_type": "code",
   "execution_count": 157,
   "metadata": {},
   "outputs": [],
   "source": [
    "# process data for ML\n",
    "\n",
    "cat_features = X_train.select_dtypes(include=['object']).columns.tolist()\n",
    "num_features = X_train.select_dtypes(include=['float64', 'int64']).columns.tolist()\n",
    "featurs = cat_features + num_features\n",
    "target = 'swing'\n",
    "\n",
    "num_pipeline = Pipeline(\n",
    "    steps=[\n",
    "        ('imputer', SimpleImputer(strategy='mean')),\n",
    "        ('scaler', StandardScaler())\n",
    "    ]\n",
    ")\n",
    "\n",
    "cat_pipeline = Pipeline(\n",
    "    steps=[\n",
    "        ('imputer', SimpleImputer(strategy='most_frequent')),\n",
    "        ('encoder', OneHotEncoder(handle_unknown='ignore'))\n",
    "    ]\n",
    ")\n",
    "\n",
    "preprocessor = ColumnTransformer(\n",
    "    transformers=[\n",
    "        ('num', num_pipeline, num_features),\n",
    "        ('cat', cat_pipeline, cat_features)\n",
    "    ]\n",
    ")\n",
    "\n",
    "pipeline = Pipeline(\n",
    "    steps=[\n",
    "        ('preprocessor', preprocessor),\n",
    "        ('classifier', RandomForestClassifier(random_state=42))\n",
    "    ]\n",
    ")"
   ]
  },
  {
   "cell_type": "code",
   "execution_count": 158,
   "metadata": {},
   "outputs": [],
   "source": [
    "# train models\n",
    "# create a calibrated model\n",
    "\n",
    "params_grid = {\n",
    "    \"method\": [\n",
    "        \"isotonic\",\n",
    "        \"sigmoid\",\n",
    "    ],\n",
    "    \"estimator__classifier__max_depth\": [5, 10, 15, 25, None],\n",
    "    \"estimator__classifier__criterion\": ['log_loss', 'gini'],\n",
    "}\n",
    "\n",
    "model = GridSearchCV(CalibratedClassifierCV(estimator=pipeline), cv=5, param_grid=params_grid, n_jobs=-1)\n",
    "_ = model.fit(X_train, y_train)"
   ]
  },
  {
   "cell_type": "code",
   "execution_count": 159,
   "metadata": {},
   "outputs": [
    {
     "data": {
      "text/plain": [
       "{'estimator__classifier__criterion': 'gini',\n",
       " 'estimator__classifier__max_depth': 15,\n",
       " 'method': 'sigmoid'}"
      ]
     },
     "execution_count": 159,
     "metadata": {},
     "output_type": "execute_result"
    }
   ],
   "source": [
    "model.best_params_"
   ]
  },
  {
   "cell_type": "markdown",
   "metadata": {},
   "source": [
    "We train and tune a random forest classifier model to predict the probability of a batter swinging at a pitch."
   ]
  },
  {
   "cell_type": "markdown",
   "metadata": {},
   "source": [
    "## Results"
   ]
  },
  {
   "cell_type": "code",
   "execution_count": 169,
   "metadata": {},
   "outputs": [
    {
     "name": "stdout",
     "output_type": "stream",
     "text": [
      "Test accuracy: 0.7329\n",
      "Test ECE: 0.0473\n",
      "Test MCE: 0.1189\n",
      "Test Brier: 0.1844\n"
     ]
    }
   ],
   "source": [
    "# report model metrics\n",
    "# function to calculate the calibration error\n",
    "def calibration_error(y_true, y_prob, type=\"expected\", n_bins=10):\n",
    "    \"\"\"\n",
    "    Compute calibration error of a binary classifier.\n",
    "\n",
    "    The calibration error measures the aggregated difference between\n",
    "    the average predicted probabilities assigned to the positive class,\n",
    "    and the frequencies of the positive class in the actual outcome.\n",
    "\n",
    "    Parameters\n",
    "    ----------\n",
    "    y_true : array-like of shape (n_samples,)\n",
    "        True targets of a binary classification task.\n",
    "\n",
    "    y_prob : array-like of (n_samples,)\n",
    "        Estimated probabilities for the positive class.\n",
    "\n",
    "    type : {'expected', 'max'}, default='expected'\n",
    "        The expected-type is the Expected Calibration Error (ECE), and the\n",
    "        max-type corresponds to Maximum Calibration Error (MCE).\n",
    "\n",
    "    n_bins : int, default=10\n",
    "       The number of bins used when computing the error.\n",
    "\n",
    "    Returns\n",
    "    -------\n",
    "    score : float\n",
    "        The calibration error.\n",
    "    \"\"\"\n",
    "\n",
    "    bins = np.linspace(0.0, 1.0, n_bins + 1)\n",
    "    bin_idx = np.searchsorted(bins[1:-1], y_prob)\n",
    "\n",
    "    bin_sums = np.bincount(bin_idx, weights=y_prob, minlength=len(bins))\n",
    "    bin_true = np.bincount(bin_idx, weights=y_true, minlength=len(bins))\n",
    "    bin_total = np.bincount(bin_idx, minlength=len(bins))\n",
    "\n",
    "    nonzero = bin_total != 0\n",
    "    prob_true = bin_true[nonzero] / bin_total[nonzero]\n",
    "    prob_pred = bin_sums[nonzero] / bin_total[nonzero]\n",
    "\n",
    "    if type == \"max\":\n",
    "        calibration_error = np.max(np.abs(prob_pred - prob_true))\n",
    "    elif type == \"expected\":\n",
    "        bin_error = np.abs(prob_pred - prob_true) * bin_total[nonzero]\n",
    "        calibration_error = np.sum(bin_error) / len(y_true)\n",
    "\n",
    "    return calibration_error\n",
    "\n",
    "test_ece = calibration_error(y_test, model.predict_proba(X_test)[:, 1], type=\"expected\")\n",
    "test_mce = calibration_error(y_test, model.predict_proba(X_test)[:, 1], type=\"max\")\n",
    "test_brier = brier_score_loss(y_test, model.predict_proba(X_test)[:, 1])\n",
    "accuracy_score = accuracy_score(y_test, model.predict(X_test))\n",
    "print(f\"Test accuracy: {accuracy_score:.4f}\")\n",
    "print(f\"Test ECE: {test_ece:.4f}\")\n",
    "print(f\"Test MCE: {test_mce:.4f}\")\n",
    "print(f\"Test Brier: {test_brier:.4f}\")"
   ]
  },
  {
   "cell_type": "code",
   "execution_count": 165,
   "metadata": {},
   "outputs": [
    {
     "data": {
      "text/plain": [
       "['swing.joblib']"
      ]
     },
     "execution_count": 165,
     "metadata": {},
     "output_type": "execute_result"
    }
   ],
   "source": [
    "# | echo: false\n",
    "# | output: false\n",
    "# serialize model\n",
    "dump(model, \"swing.joblib\", compress=8)\n"
   ]
  },
  {
   "cell_type": "markdown",
   "metadata": {},
   "source": [
    "## Discussion"
   ]
  },
  {
   "cell_type": "markdown",
   "metadata": {},
   "source": [
    "I would recommend against the use of this model in a production setting. The test accuracy of the model is around 73%, which is not that great. In terms of calibration, the model is also not very well calibrated, according to the calibration plot below. It acheives decent ECE, MCE, and Brier scores, but the calibration plot still shows that the model is far from being a perfectly calibrated model."
   ]
  },
  {
   "cell_type": "code",
   "execution_count": 166,
   "metadata": {},
   "outputs": [
    {
     "data": {
      "image/png": "[encoded data removed]",
      "text/plain": [
       "<Figure size 640x480 with 1 Axes>"
      ]
     },
     "metadata": {},
     "output_type": "display_data"
    }
   ],
   "source": [
    "# | echo: false\n",
    "# | lightbox: true\n",
    "# summary figure\n",
    "# function to plot a calibration_plot\n",
    "def plot_calibration_plot(y_true, y_prob):\n",
    "\n",
    "    # generate \"data\" for calibration plot\n",
    "    prob_true, prob_pred = calibration_curve(\n",
    "        y_true,\n",
    "        y_prob,\n",
    "        n_bins=20,\n",
    "        pos_label=1,\n",
    "    )\n",
    "\n",
    "    # create a figure and axis object with a specific size\n",
    "    fig, ax = plt.subplots()\n",
    "\n",
    "    # plot the calibration curve\n",
    "    ax.plot(\n",
    "        prob_pred,\n",
    "        prob_true,\n",
    "        \"s-\",\n",
    "        label=\"Learned Classifier\",\n",
    "        color=\"#1D58A7\",\n",
    "    )\n",
    "\n",
    "    # plot the diagonal \"perfect\" line\n",
    "    ax.plot(\n",
    "        [0, 1],\n",
    "        [0, 1],\n",
    "        \"--\",\n",
    "        label=\"Perfect Calibration\",\n",
    "        color=\"#F5821E\",\n",
    "    )\n",
    "\n",
    "    # set the plot title and axis labels\n",
    "    ax.set_title(\"Calibration Plot\")\n",
    "    ax.set_xlabel(\"Mean Predicted Value\")\n",
    "    ax.set_ylabel(\"Fraction of Positives\")\n",
    "\n",
    "    # add a grid\n",
    "    ax.grid(\n",
    "        True,\n",
    "        color=\"lightgrey\",\n",
    "        linewidth=0.75,\n",
    "        linestyle=\"--\",\n",
    "    )\n",
    "\n",
    "    # fix aspect ratio\n",
    "    ax.set_aspect(\n",
    "        \"equal\",\n",
    "        adjustable=\"box\",\n",
    "    )\n",
    "\n",
    "    # show the legend\n",
    "    ax.legend()\n",
    "\n",
    "    # show the plot\n",
    "    plt.show()\n",
    "\n",
    "plot_calibration_plot(y_train, model.predict_proba(X_train)[:,1])"
   ]
  }
 ],
 "metadata": {
  "kernelspec": {
   "display_name": ".venv",
   "language": "python",
   "name": "python3"
  },
  "language_info": {
   "codemirror_mode": {
    "name": "ipython",
    "version": 3
   },
   "file_extension": ".py",
   "mimetype": "text/x-python",
   "name": "python",
   "nbconvert_exporter": "python",
   "pygments_lexer": "ipython3",
   "version": "3.12.8"
  }
 },
 "nbformat": 4,
 "nbformat_minor": 2
}
