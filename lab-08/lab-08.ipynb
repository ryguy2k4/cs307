{
 "cells": [
  {
   "cell_type": "markdown",
   "metadata": {},
   "source": [
    "# Housing"
   ]
  },
  {
   "cell_type": "markdown",
   "metadata": {},
   "source": [
    "---\n",
    "embed-resources: true\n",
    "---"
   ]
  },
  {
   "cell_type": "markdown",
   "metadata": {},
   "source": [
    "## Introduction"
   ]
  },
  {
   "cell_type": "markdown",
   "metadata": {},
   "source": [
    "The purpose of this report is to develop a model that can predict the sale price of a home given a large number of features about the home. This model can be used on our website to help buyers evaluate list prices and to help sellers price their home."
   ]
  },
  {
   "cell_type": "markdown",
   "metadata": {},
   "source": [
    "## Methods"
   ]
  },
  {
   "cell_type": "code",
   "execution_count": 84,
   "metadata": {},
   "outputs": [],
   "source": [
    "# imports\n",
    "import pandas as pd\n",
    "import numpy as np\n",
    "import matplotlib.pyplot as plt\n",
    "import seaborn as sns\n",
    "from joblib import dump\n",
    "\n",
    "from sklearn.compose import ColumnTransformer\n",
    "from sklearn.pipeline import Pipeline\n",
    "from sklearn.preprocessing import OneHotEncoder\n",
    "from sklearn.impute import SimpleImputer\n",
    "from sklearn.model_selection import GridSearchCV\n",
    "\n",
    "from sklearn.ensemble import RandomForestRegressor\n",
    "from sklearn.linear_model import Lasso\n",
    "from sklearn.ensemble import HistGradientBoostingRegressor\n",
    "from sklearn.metrics import mean_absolute_percentage_error"
   ]
  },
  {
   "cell_type": "markdown",
   "metadata": {},
   "source": [
    "### Data"
   ]
  },
  {
   "cell_type": "code",
   "execution_count": 85,
   "metadata": {},
   "outputs": [],
   "source": [
    "# load data\n",
    "housing_train = pd.read_parquet(\n",
    "    \"https://cs307.org/lab/data/housing-train.parquet\",\n",
    ")\n",
    "housing_test = pd.read_parquet(\n",
    "    \"https://cs307.org/lab/data/housing-test.parquet\",\n",
    ")\n",
    "\n",
    "# create X and y for train dataset\n",
    "X_train = housing_train.drop(\"SalePrice\", axis=1)\n",
    "y_train = housing_train[\"SalePrice\"]\n",
    "\n",
    "# create X and y for test dataset\n",
    "X_test = housing_test.drop(\"SalePrice\", axis=1)\n",
    "y_test = housing_test[\"SalePrice\"]"
   ]
  },
  {
   "cell_type": "markdown",
   "metadata": {},
   "source": [
    "Each observation in the dataset represents the sale of a single home in Aimes, Iowa between 2006 and 2010. The data dictionary is detailed below.\n",
    "\n",
    "### Response\n",
    "**`SalePrice`**\n",
    "- [int64] Sale price\n",
    "\n",
    "### Features\n",
    "**`Order`**\n",
    "- [int64] Observation number\n",
    "\n",
    "**`PID`**\n",
    "- [int64] Parcel identification number - can be used with city web site for parcel review\n",
    "\n",
    "**`MS SubClass`**\n",
    "- [int64] Identifies the type of dwelling involved in the sale\n",
    "\n",
    "**`MS Zoning`**\n",
    "- [object] Identifies the general zoning classification of the sale.\n",
    "\n",
    "**`Lot Frontage`**\n",
    "- [float64] Linear feet of street connected to property\n",
    "\n",
    "**`Lot Area`**\n",
    "- [int64] Lot size in square feet\n",
    "\n",
    "**`Street`**\n",
    "- [object] Type of road access to property\n",
    "\n",
    "**`Alley`**\n",
    "- [object] Type of alley access to property\n",
    "\n",
    "**`Lot Shape`**\n",
    "- [object] General shape of property\n",
    "\n",
    "**`Land Contour`**\n",
    "- [object] Flatness of the property\n",
    "\n",
    "**`Utilities`**\n",
    "- [object] Type of utilities available\n",
    "\n",
    "**`Lot Config`**\n",
    "- [object] Lot configuration\n",
    "\n",
    "**`Land Slope`**\n",
    "- [object] Slope of property\n",
    "\n",
    "**`Neighborhood`**\n",
    "- [object] Physical locations within Ames city limits (map available)\n",
    "\n",
    "**`Condition 1`**\n",
    "- [object] Proximity to various conditions\n",
    "\n",
    "**`Condition 2`**\n",
    "- [object] Proximity to various conditions (if more than one is present)\n",
    "\n",
    "**`Bldg Type`**\n",
    "- [object] Type of dwelling\n",
    "\n",
    "**`House Style`**\n",
    "- [object] Style of dwelling\n",
    "\n",
    "**`Overall Qual`**\n",
    "- [int64] Rates the overall material and finish of the house\n",
    "\n",
    "**`Overall Cond`**\n",
    "- [int64] Rates the overall condition of the house\n",
    "\n",
    "**`Year Built`**\n",
    "- [int64] Original construction date\n",
    "\n",
    "**`Year Remod/Add`**\n",
    "- [int64] Remodel date (same as construction date if no remodeling or additions)\n",
    "\n",
    "**`Roof Style`**\n",
    "- [object] Type of roof\n",
    "\n",
    "**`Roof Matl`**\n",
    "- [object] Roof material\n",
    "\n",
    "**`Exterior 1st`**\n",
    "- [object] Exterior covering on house\n",
    "\n",
    "**`Exterior 2nd`**\n",
    "- [object] Exterior covering on house (if more than one material)\n",
    "\n",
    "**`Mas Vnr Type`**\n",
    "- [object] Masonry veneer type\n",
    "\n",
    "**`Mas Vnr Area`**\n",
    "- [float64] Masonry veneer area in square feet\n",
    "\n",
    "**`Exter Qual`**\n",
    "- [object] Evaluates the quality of the material on the exterior\n",
    "\n",
    "**`Exter Cond`**\n",
    "- [object] Evaluates the present condition of the material on the exterior\n",
    "\n",
    "**`Foundation`**\n",
    "- [object] Type of foundation\n",
    "\n",
    "**`Bsmt Qual`**\n",
    "- [object] Evaluates the height of the basement\n",
    "\n",
    "**`Bsmt Cond`**\n",
    "- [object] Evaluates the general condition of the basement\n",
    "\n",
    "**`Bsmt Exposure`**\n",
    "- [object] Refers to walkout or garden level walls\n",
    "\n",
    "**`BsmtFin Type 1`**\n",
    "- [object] Rating of basement finished area\n",
    "\n",
    "**`BsmtFin SF 1`**\n",
    "- [float64] Type 1 finished square feet\n",
    "\n",
    "**`BsmtFin Type 2`**\n",
    "- [object] Rating of basement finished area (if multiple types)\n",
    "\n",
    "**`BsmtFin SF 2`**\n",
    "- [float64] Type 2 finished square feet\n",
    "\n",
    "**`Bsmt Unf SF`**\n",
    "- [float64] Unfinished square feet of basement area\n",
    "\n",
    "**`Total Bsmt SF`**\n",
    "- [float64] Total square feet of basement area\n",
    "\n",
    "**`Heating`**\n",
    "- [object] Type of heating\n",
    "\n",
    "**`Heating QC`**\n",
    "- [object] Heating quality and condition\n",
    "\n",
    "**`Central Air`**\n",
    "- [object] Central air conditioning\n",
    "\n",
    "**`Electrical`**\n",
    "- [object] Electrical system\n",
    "\n",
    "**`1st Flr SF`**\n",
    "- [int64] First Floor square feet\n",
    "\n",
    "**`2nd Flr SF`**\n",
    "- [int64] Second floor square feet\n",
    "\n",
    "**`Low Qual Fin SF`**\n",
    "- [int64] Low quality finished square feet (all floors)\n",
    "\n",
    "**`Gr Liv Area`**\n",
    "- [int64] Above grade (ground) living area square feet\n",
    "\n",
    "**`Bsmt Full Bath`**\n",
    "- [float64] Basement full bathrooms\n",
    "\n",
    "**`Bsmt Half Bath`**\n",
    "- [float64] Basement half bathrooms\n",
    "\n",
    "**`Full Bath`**\n",
    "- [int64] Full bathrooms above grade\n",
    "\n",
    "**`Half Bath`**\n",
    "- [int64] Half baths above grade\n",
    "\n",
    "**`Bedroom AbvGr`**\n",
    "- [int64] Bedrooms above grade (does not include basement bedrooms)\n",
    "\n",
    "**`Kitchen AbvGr`**\n",
    "- [int64] Kitchens above grade\n",
    "\n",
    "**`Kitchen Qual`**\n",
    "- [object] Kitchen quality\n",
    "\n",
    "**`TotRms AbvGrd`**\n",
    "- [int64] Total rooms above grade (does not include bathrooms)\n",
    "\n",
    "**`Functional`**\n",
    "- [object] Home functionality (Assume typical unless deductions are warranted)\n",
    "\n",
    "**`Fireplaces`**\n",
    "- [int64] Number of fireplaces\n",
    "\n",
    "**`Fireplace Qu`**\n",
    "- [object] Fireplace quality\n",
    "\n",
    "**`Garage Type`**\n",
    "- [object] Garage location\n",
    "\n",
    "**`Garage Yr Blt`**\n",
    "- [float64] Year garage was built\n",
    "\n",
    "**`Garage Finish`**\n",
    "- [object] Interior finish of the garage\n",
    "\n",
    "**`Garage Cars`**\n",
    "- [float64] Size of garage in car capacity\n",
    "\n",
    "**`Garage Area`**\n",
    "- [float64] Size of garage in square feet\n",
    "\n",
    "**`Garage Qual`**\n",
    "- [object] Garage quality\n",
    "\n",
    "**`Garage Cond`**\n",
    "- [object] Garage condition\n",
    "\n",
    "**`Paved Drive`**\n",
    "- [object] Paved driveway\n",
    "\n",
    "**`Wood Deck SF`**\n",
    "- [int64] Wood deck area in square feet\n",
    "\n",
    "**`Open Porch SF`**\n",
    "- [int64] Open porch area in square feet\n",
    "\n",
    "**`Enclosed Porch`**\n",
    "- [int64] Enclosed porch area in square feet\n",
    "\n",
    "**`3Ssn Porch`**\n",
    "- [int64] Three season porch area in square feet\n",
    "\n",
    "**`Screen Porch`**\n",
    "- [int64] Screen porch area in square feet\n",
    "\n",
    "**`Pool Area`**\n",
    "- [int64] Pool area in square feet\n",
    "\n",
    "**`Pool QC`**\n",
    "- [object] Pool quality\n",
    "\n",
    "**`Fence`**\n",
    "- [object] Fence quality\n",
    "\n",
    "**`Misc Feature`**\n",
    "- [object] Miscellaneous feature not covered in other categories\n",
    "\n",
    "**`Misc Val`**\n",
    "- [int64] Value of miscellaneous feature\n",
    "\n",
    "**`Mo Sold`**\n",
    "- [int64] Month Sold\n",
    "\n",
    "**`Yr Sold`**\n",
    "- [int64] Year Sold\n",
    "\n",
    "**`Sale Type`**\n",
    "- [object] Type of sale\n",
    "\n",
    "**`Sale Condition`**\n",
    "- [object] Condition of sale"
   ]
  },
  {
   "cell_type": "code",
   "execution_count": 86,
   "metadata": {},
   "outputs": [
    {
     "data": {
      "text/plain": [
       "(1875, 81)"
      ]
     },
     "execution_count": 86,
     "metadata": {},
     "output_type": "execute_result"
    }
   ],
   "source": [
    "# summary statistics\n",
    "X_train.shape"
   ]
  },
  {
   "cell_type": "markdown",
   "metadata": {},
   "source": [
    "The dataset has 1875 observations and 81 features."
   ]
  },
  {
   "cell_type": "code",
   "execution_count": 87,
   "metadata": {},
   "outputs": [
    {
     "data": {
      "image/png": "[encoded data removed]",
      "text/plain": [
       "<Figure size 640x480 with 1 Axes>"
      ]
     },
     "metadata": {},
     "output_type": "display_data"
    }
   ],
   "source": [
    "# | echo: False\n",
    "# exploratory visualization\n",
    "sns.boxplot(y_train)\n",
    "plt.title(\"Sale Price Boxplot\")\n",
    "plt.ylabel(\"\")\n",
    "plt.show()"
   ]
  },
  {
   "cell_type": "markdown",
   "metadata": {},
   "source": [
    "Half of all home prices lie within a relatively narrow range. There are a lot of high outliers."
   ]
  },
  {
   "cell_type": "markdown",
   "metadata": {},
   "source": [
    "### Models"
   ]
  },
  {
   "cell_type": "code",
   "execution_count": 88,
   "metadata": {},
   "outputs": [],
   "source": [
    "# process data for ML\n",
    "\n",
    "# split variable types\n",
    "num_columns = X_train.select_dtypes(['int64', 'float64']).columns.to_list()\n",
    "cat_columns = X_train.select_dtypes(['object']).columns.to_list()\n",
    "\n",
    "cat_informative_missing = ['Alley', 'Mas Vnr Type', 'Pool QC', 'Fence']\n",
    "\n",
    "# apply exclusions\n",
    "exclude_columns = ['Order', 'PID']\n",
    "num_columns = [col for col in num_columns if col not in exclude_columns]\n",
    "cat_columns = [col for col in cat_columns if col not in exclude_columns+cat_informative_missing]\n",
    "\n",
    "num_pipeline = Pipeline(\n",
    "    steps=[\n",
    "        ('imputer', SimpleImputer(strategy='median'))\n",
    "    ]\n",
    ")\n",
    "\n",
    "cat_pipeline = Pipeline(\n",
    "    steps=[\n",
    "        ('imputer', SimpleImputer(strategy='most_frequent')),\n",
    "        ('encoder', OneHotEncoder(min_frequency=70, handle_unknown='infrequent_if_exist'))\n",
    "    ]\n",
    ")\n",
    "\n",
    "cat_inf_missing_pipeline = Pipeline(\n",
    "    steps=[\n",
    "        ('imputer', SimpleImputer(strategy='constant', fill_value='informative')),\n",
    "        ('encoder', OneHotEncoder(min_frequency=50, handle_unknown='infrequent_if_exist'))\n",
    "    ]\n",
    ")\n",
    "\n",
    "preprocessor = ColumnTransformer(\n",
    "    transformers=[\n",
    "        ('numeric', num_pipeline, num_columns),\n",
    "        ('categorical', cat_pipeline, cat_columns),\n",
    "        ('categorical_inf_missing', cat_inf_missing_pipeline, cat_informative_missing)\n",
    "    ],\n",
    "    remainder='drop'\n",
    ")\n",
    "\n",
    "pipeline = Pipeline(\n",
    "    steps=[\n",
    "        ('preprocessor', preprocessor),\n",
    "        ('estimator', RandomForestRegressor(n_estimators=500))\n",
    "    ]\n",
    ")"
   ]
  },
  {
   "cell_type": "code",
   "execution_count": 89,
   "metadata": {},
   "outputs": [],
   "source": [
    "# train models\n",
    "param_grid = [\n",
    "    {\n",
    "        \"estimator\": [HistGradientBoostingRegressor()],\n",
    "        \"estimator__learning_rate\": np.linspace(0.05, 0.25, 5),\n",
    "        \"estimator__max_iter\": [100, 200, 300],\n",
    "        \"estimator__max_features\": np.linspace(0.1, 0.8, 8),\n",
    "    }\n",
    "]\n",
    "\n",
    "model = GridSearchCV(pipeline, param_grid, cv=5, scoring='neg_mean_absolute_percentage_error', n_jobs=-1)\n",
    "_ = model.fit(X_train, y_train)"
   ]
  },
  {
   "cell_type": "code",
   "execution_count": 90,
   "metadata": {},
   "outputs": [
    {
     "data": {
      "text/plain": [
       "{'estimator': HistGradientBoostingRegressor(),\n",
       " 'estimator__learning_rate': np.float64(0.05),\n",
       " 'estimator__max_features': np.float64(0.2),\n",
       " 'estimator__max_iter': 300}"
      ]
     },
     "execution_count": 90,
     "metadata": {},
     "output_type": "execute_result"
    }
   ],
   "source": [
    "model.best_params_"
   ]
  },
  {
   "cell_type": "markdown",
   "metadata": {},
   "source": [
    "After model selection with parameter tuning and cross validation, the final model is a `HistGradientBoostingRegressor`, a boosted model. This acheives the highest train accuracy."
   ]
  },
  {
   "cell_type": "markdown",
   "metadata": {},
   "source": [
    "## Results"
   ]
  },
  {
   "cell_type": "code",
   "execution_count": 106,
   "metadata": {},
   "outputs": [
    {
     "name": "stdout",
     "output_type": "stream",
     "text": [
      "Test MAPE: 8.13%\n"
     ]
    }
   ],
   "source": [
    "# report model metrics\n",
    "y_pred = model.predict(X_test)\n",
    "test_score = mean_absolute_percentage_error(y_test, y_pred)\n",
    "print(f\"Test MAPE: {test_score:.2%}\")"
   ]
  },
  {
   "cell_type": "code",
   "execution_count": 92,
   "metadata": {},
   "outputs": [
    {
     "data": {
      "text/plain": [
       "['housing.joblib']"
      ]
     },
     "execution_count": 92,
     "metadata": {},
     "output_type": "execute_result"
    }
   ],
   "source": [
    "# | echo: false\n",
    "# | output: false\n",
    "# serialize model\n",
    "dump(model, 'housing.joblib')"
   ]
  },
  {
   "cell_type": "markdown",
   "metadata": {},
   "source": [
    "## Discussion"
   ]
  },
  {
   "cell_type": "markdown",
   "metadata": {},
   "source": [
    "I would recommend against putting this model into practice. The mean absolute percentage error is about 8%, but 8% of the average home sale price is around $14,000, not a small sum of money. The inaccuracies of this model's predictions have no threat to life, but they do pose a financial threat to people. Looking at the graph of Actual vs Predicted sale prices, we observe that the prediction errors appear to get larger for more expensive homes, which makes the cost of our inaccurate predictions even worse. Note that it generally appears that outlying errors here are in favor of the seller. The model seems to predict higher prices more often than lower prices."
   ]
  },
  {
   "cell_type": "code",
   "execution_count": 104,
   "metadata": {},
   "outputs": [
    {
     "data": {
      "image/png": "[encoded data removed]",
      "text/plain": [
       "<Figure size 640x480 with 1 Axes>"
      ]
     },
     "metadata": {},
     "output_type": "display_data"
    }
   ],
   "source": [
    "# | echo: False\n",
    "# | lightbox: True\n",
    "# summary figure\n",
    "plt.scatter(y_test, y_pred)\n",
    "plt.title(\"Test Actual vs Predicted\")\n",
    "plt.xlabel(\"Actual Price\")\n",
    "plt.ylabel(\"Predicted Price\")\n",
    "plt.show()"
   ]
  },
  {
   "cell_type": "code",
   "execution_count": null,
   "metadata": {},
   "outputs": [],
   "source": []
  }
 ],
 "metadata": {
  "kernelspec": {
   "display_name": ".venv",
   "language": "python",
   "name": "python3"
  },
  "language_info": {
   "codemirror_mode": {
    "name": "ipython",
    "version": 3
   },
   "file_extension": ".py",
   "mimetype": "text/x-python",
   "name": "python",
   "nbconvert_exporter": "python",
   "pygments_lexer": "ipython3",
   "version": "3.12.8"
  }
 },
 "nbformat": 4,
 "nbformat_minor": 2
}
