{
 "cells": [
  {
   "cell_type": "code",
   "execution_count": 98,
   "id": "bd8a17c1",
   "metadata": {},
   "outputs": [],
   "source": [
    "import torch\n",
    "from torch import nn\n",
    "from torch.utils.data import DataLoader\n",
    "from torchvision import datasets\n",
    "from torchvision.transforms import ToTensor"
   ]
  },
  {
   "cell_type": "code",
   "execution_count": 99,
   "id": "49032e2f",
   "metadata": {},
   "outputs": [
    {
     "name": "stdout",
     "output_type": "stream",
     "text": [
      "Using mps device!\n"
     ]
    }
   ],
   "source": [
    "if torch.cuda.is_available():\n",
    "    device = \"cuda\"\n",
    "elif torch.backends.mps.is_available():\n",
    "    device = \"mps\"\n",
    "else:\n",
    "    device = \"cpu\"\n",
    "\n",
    "print(f\"Using {device} device!\")"
   ]
  },
  {
   "cell_type": "code",
   "execution_count": 100,
   "id": "b56359ef",
   "metadata": {},
   "outputs": [],
   "source": [
    "# download training data from open datasets\n",
    "training_data = datasets.FashionMNIST(\n",
    "    root=\"data\",\n",
    "    train=True,\n",
    "    download=True,\n",
    "    transform=ToTensor(),\n",
    ")\n",
    "\n",
    "# download test data from open datasets\n",
    "test_data = datasets.FashionMNIST(\n",
    "    root=\"data\",\n",
    "    train=False,\n",
    "    download=True,\n",
    "    transform=ToTensor(),\n",
    ")"
   ]
  },
  {
   "cell_type": "code",
   "execution_count": 101,
   "id": "dc820aed",
   "metadata": {},
   "outputs": [],
   "source": [
    "classes = [\n",
    "    \"T-shirt/top\",\n",
    "    \"Trouser\",\n",
    "    \"Pullover\",\n",
    "    \"Dress\",\n",
    "    \"Coat\",\n",
    "    \"Sandal\",\n",
    "    \"Shirt\",\n",
    "    \"Sneaker\",\n",
    "    \"Bag\",\n",
    "    \"Ankle boot\",\n",
    "]"
   ]
  },
  {
   "cell_type": "code",
   "execution_count": 102,
   "id": "85047bec",
   "metadata": {},
   "outputs": [
    {
     "data": {
      "text/plain": [
       "Dataset FashionMNIST\n",
       "    Number of datapoints: 60000\n",
       "    Root location: data\n",
       "    Split: Train\n",
       "    StandardTransform\n",
       "Transform: ToTensor()"
      ]
     },
     "execution_count": 102,
     "metadata": {},
     "output_type": "execute_result"
    }
   ],
   "source": [
    "training_data"
   ]
  },
  {
   "cell_type": "code",
   "execution_count": 103,
   "id": "9bfca5ab",
   "metadata": {},
   "outputs": [
    {
     "name": "stdout",
     "output_type": "stream",
     "text": [
      "Feature batch shape: torch.Size([64, 1, 28, 28])\n",
      "Labels batch shape: torch.Size([64])\n"
     ]
    }
   ],
   "source": [
    "batch_size = 64\n",
    "# create data loaders\n",
    "train_dataloader = DataLoader(training_data, batch_size=batch_size)\n",
    "test_dataloader = DataLoader(test_data, batch_size=batch_size)\n",
    "# get one batch of training data\n",
    "train_features, train_labels = next(iter(train_dataloader))\n",
    "print(f\"Feature batch shape: {train_features.size()}\")\n",
    "print(f\"Labels batch shape: {train_labels.size()}\")"
   ]
  },
  {
   "cell_type": "code",
   "execution_count": 104,
   "id": "d58c039e",
   "metadata": {},
   "outputs": [],
   "source": [
    "# LeNet-5 model\n",
    "# self.cnn = nn.Sequential(\n",
    "#             nn.Conv2d(1, 6, kernel_size=5, padding=2),\n",
    "#             nn.Sigmoid(),\n",
    "#             nn.AvgPool2d(kernel_size=2, stride=2),\n",
    "#             nn.Conv2d(6, 16, kernel_size=5, padding=0),\n",
    "#             nn.AvgPool2d(kernel_size=2, stride=2),\n",
    "#             nn.Flatten(),\n",
    "#             nn.Linear(5 * 5 * 16, 120),\n",
    "#             nn.Sigmoid(),\n",
    "#             nn.Linear(120, 84),\n",
    "#             nn.Sigmoid(),\n",
    "#             nn.Linear(84, 10),\n",
    "#         )"
   ]
  },
  {
   "cell_type": "code",
   "execution_count": null,
   "id": "88360128",
   "metadata": {},
   "outputs": [],
   "source": [
    "class CNN(nn.Module):\n",
    "    def __init__(self):\n",
    "        super().__init__()\n",
    "        self.cnn = nn.Sequential(\n",
    "            # convolutional layer\n",
    "            nn.Conv2d(1, 10, kernel_size=3, padding=1),\n",
    "            nn.ReLU(),\n",
    "            nn.MaxPool2d(kernel_size=2, stride=2),\n",
    "\n",
    "            # convolutional layer\n",
    "            nn.Conv2d(10, 30, kernel_size=3, padding=1),\n",
    "            nn.ReLU(),\n",
    "            nn.MaxPool2d(kernel_size=2, stride=2),\n",
    "\n",
    "            # flatten\n",
    "            nn.Flatten(),\n",
    "\n",
    "            # fully connected layer\n",
    "            nn.Linear(7 * 7 * 30, 512),\n",
    "            nn.ReLU(),\n",
    "            nn.Dropout(),\n",
    "\n",
    "            # fully connected layer\n",
    "            nn.Linear(512, 128),\n",
    "            nn.ReLU(),\n",
    "            nn.Dropout(),\n",
    "\n",
    "            # output layer\n",
    "            nn.Linear(128, 10),\n",
    "        )\n",
    "\n",
    "    def forward(self, x):\n",
    "        x = self.cnn(x)\n",
    "        return x"
   ]
  },
  {
   "cell_type": "code",
   "execution_count": 106,
   "id": "c2977362",
   "metadata": {},
   "outputs": [
    {
     "name": "stdout",
     "output_type": "stream",
     "text": [
      "CNN(\n",
      "  (cnn): Sequential(\n",
      "    (0): Conv2d(1, 10, kernel_size=(3, 3), stride=(1, 1), padding=(1, 1))\n",
      "    (1): ReLU()\n",
      "    (2): MaxPool2d(kernel_size=2, stride=2, padding=0, dilation=1, ceil_mode=False)\n",
      "    (3): Conv2d(10, 30, kernel_size=(3, 3), stride=(1, 1), padding=(1, 1))\n",
      "    (4): ReLU()\n",
      "    (5): MaxPool2d(kernel_size=2, stride=2, padding=0, dilation=1, ceil_mode=False)\n",
      "    (6): Flatten(start_dim=1, end_dim=-1)\n",
      "    (7): Linear(in_features=1470, out_features=512, bias=True)\n",
      "    (8): ReLU()\n",
      "    (9): Dropout(p=0.5, inplace=False)\n",
      "    (10): Linear(in_features=512, out_features=128, bias=True)\n",
      "    (11): ReLU()\n",
      "    (12): Dropout(p=0.5, inplace=False)\n",
      "    (13): Linear(in_features=128, out_features=10, bias=True)\n",
      "  )\n",
      ")\n"
     ]
    }
   ],
   "source": [
    "model_cnn = CNN().to(device)\n",
    "print(model_cnn)"
   ]
  },
  {
   "cell_type": "code",
   "execution_count": 107,
   "id": "211b5f29",
   "metadata": {},
   "outputs": [],
   "source": [
    "# define loss function\n",
    "loss_fn = nn.CrossEntropyLoss()\n",
    "# define optimizer\n",
    "optimizer = torch.optim.Adam(\n",
    "    model_cnn.parameters(), \n",
    "    lr=0.001\n",
    ")"
   ]
  },
  {
   "cell_type": "code",
   "execution_count": 110,
   "id": "dbd23da9",
   "metadata": {},
   "outputs": [
    {
     "name": "stdout",
     "output_type": "stream",
     "text": [
      "Epoch 1\n",
      "-------------------------------\n",
      "loss: 0.147242  [    0/60000]\n",
      "loss: 0.233396  [ 6400/60000]\n",
      "loss: 0.122404  [12800/60000]\n",
      "loss: 0.319275  [19200/60000]\n",
      "loss: 0.228431  [25600/60000]\n",
      "loss: 0.300780  [32000/60000]\n",
      "loss: 0.257967  [38400/60000]\n",
      "loss: 0.177851  [44800/60000]\n",
      "loss: 0.217631  [51200/60000]\n",
      "loss: 0.216368  [57600/60000]\n",
      "Test Error: \n",
      " Accuracy: 91.0%, Avg loss: 0.254331 \n",
      "\n",
      "Epoch 2\n",
      "-------------------------------\n",
      "loss: 0.115250  [    0/60000]\n",
      "loss: 0.228452  [ 6400/60000]\n",
      "loss: 0.174608  [12800/60000]\n",
      "loss: 0.217636  [19200/60000]\n",
      "loss: 0.194922  [25600/60000]\n",
      "loss: 0.324277  [32000/60000]\n",
      "loss: 0.237678  [38400/60000]\n",
      "loss: 0.284424  [44800/60000]\n",
      "loss: 0.190237  [51200/60000]\n",
      "loss: 0.215831  [57600/60000]\n",
      "Test Error: \n",
      " Accuracy: 91.5%, Avg loss: 0.248076 \n",
      "\n",
      "Epoch 3\n",
      "-------------------------------\n",
      "loss: 0.146969  [    0/60000]\n",
      "loss: 0.272756  [ 6400/60000]\n",
      "loss: 0.175731  [12800/60000]\n",
      "loss: 0.205047  [19200/60000]\n",
      "loss: 0.244863  [25600/60000]\n",
      "loss: 0.338328  [32000/60000]\n",
      "loss: 0.262369  [38400/60000]\n",
      "loss: 0.266743  [44800/60000]\n",
      "loss: 0.179098  [51200/60000]\n",
      "loss: 0.176340  [57600/60000]\n",
      "Test Error: \n",
      " Accuracy: 91.6%, Avg loss: 0.248444 \n",
      "\n",
      "Epoch 4\n",
      "-------------------------------\n",
      "loss: 0.202065  [    0/60000]\n",
      "loss: 0.214161  [ 6400/60000]\n",
      "loss: 0.083717  [12800/60000]\n",
      "loss: 0.193477  [19200/60000]\n",
      "loss: 0.292919  [25600/60000]\n",
      "loss: 0.288500  [32000/60000]\n",
      "loss: 0.202240  [38400/60000]\n",
      "loss: 0.224567  [44800/60000]\n",
      "loss: 0.176988  [51200/60000]\n",
      "loss: 0.136366  [57600/60000]\n",
      "Test Error: \n",
      " Accuracy: 91.5%, Avg loss: 0.245827 \n",
      "\n",
      "Epoch 5\n",
      "-------------------------------\n",
      "loss: 0.148947  [    0/60000]\n",
      "loss: 0.179648  [ 6400/60000]\n",
      "loss: 0.113952  [12800/60000]\n",
      "loss: 0.202269  [19200/60000]\n",
      "loss: 0.195923  [25600/60000]\n",
      "loss: 0.378147  [32000/60000]\n",
      "loss: 0.157073  [38400/60000]\n",
      "loss: 0.248260  [44800/60000]\n",
      "loss: 0.205659  [51200/60000]\n",
      "loss: 0.193651  [57600/60000]\n",
      "Test Error: \n",
      " Accuracy: 91.5%, Avg loss: 0.252276 \n",
      "\n",
      "Done!\n"
     ]
    }
   ],
   "source": [
    "def train_loop(dataloader, model, loss_fn, optimizer):\n",
    "    size = len(dataloader.dataset)\n",
    "    model.train()\n",
    "    for batch, (X, y) in enumerate(dataloader):\n",
    "        X, y = X.to(device), y.to(device)\n",
    "        # compute prediction and loss\n",
    "        pred = model(X)\n",
    "        loss = loss_fn(pred, y)\n",
    "\n",
    "        # backpropagation\n",
    "        optimizer.zero_grad()\n",
    "        loss.backward()\n",
    "        optimizer.step()\n",
    "\n",
    "        if batch % 100 == 0:\n",
    "            loss, current = loss.item(), batch * len(X)\n",
    "            print(f\"loss: {loss:>7f}  [{current:>5d}/{size:>5d}]\")\n",
    "def test_loop(dataloader, model, loss_fn):\n",
    "    size = len(dataloader.dataset)\n",
    "    num_batches = len(dataloader)\n",
    "    model.eval()\n",
    "    test_loss, correct = 0, 0\n",
    "    with torch.no_grad():\n",
    "        for X, y in dataloader:\n",
    "            X, y = X.to(device), y.to(device)\n",
    "            pred = model(X)\n",
    "            test_loss += loss_fn(pred, y).item()\n",
    "            correct += (pred.argmax(1) == y).type(torch.float).sum().item()\n",
    "\n",
    "    test_loss /= num_batches\n",
    "    correct /= size\n",
    "    print(\n",
    "        f\"Test Error: \\n Accuracy: {(100 * correct):>0.1f}%, Avg loss: {test_loss:>8f} \\n\"\n",
    "    )\n",
    "epochs = 5\n",
    "for t in range(epochs):\n",
    "    print(f\"Epoch {t + 1}\\n-------------------------------\")\n",
    "    train_loop(train_dataloader, model_cnn, loss_fn, optimizer)\n",
    "    test_loop(test_dataloader, model_cnn, loss_fn)\n",
    "print(\"Done!\")"
   ]
  },
  {
   "cell_type": "code",
   "execution_count": 111,
   "id": "05e71c2d",
   "metadata": {},
   "outputs": [],
   "source": [
    "# convert to TorchScript\n",
    "model_scripted = torch.jit.script(model_cnn)\n",
    "\n",
    "# write to disk\n",
    "model_scripted.save(\"fashion.pt\")"
   ]
  },
  {
   "cell_type": "code",
   "execution_count": null,
   "id": "28917894",
   "metadata": {},
   "outputs": [],
   "source": []
  }
 ],
 "metadata": {
  "kernelspec": {
   "display_name": ".venv",
   "language": "python",
   "name": "python3"
  },
  "language_info": {
   "codemirror_mode": {
    "name": "ipython",
    "version": 3
   },
   "file_extension": ".py",
   "mimetype": "text/x-python",
   "name": "python",
   "nbconvert_exporter": "python",
   "pygments_lexer": "ipython3",
   "version": "3.12.8"
  }
 },
 "nbformat": 4,
 "nbformat_minor": 5
}
