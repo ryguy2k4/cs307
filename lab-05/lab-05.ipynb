{
 "cells": [
  {
   "cell_type": "markdown",
   "metadata": {},
   "source": [
    "# Wine"
   ]
  },
  {
   "cell_type": "markdown",
   "metadata": {},
   "source": [
    "---\n",
    "embed-resources: true\n",
    "---"
   ]
  },
  {
   "cell_type": "markdown",
   "metadata": {},
   "source": [
    "## Introduction"
   ]
  },
  {
   "cell_type": "markdown",
   "metadata": {},
   "source": [
    "We would like to create an AI Sommelier that would rate the quality of wine based on physicochemical data. Normally wine quality is determined by trained professionals, but it would be cheaper to gather chemical data on the wine and then use machine learning to categorize its quality. The purpose of this report is to determine if such a model would be effective and useful."
   ]
  },
  {
   "cell_type": "markdown",
   "metadata": {},
   "source": [
    "## Methods"
   ]
  },
  {
   "cell_type": "code",
   "execution_count": 1,
   "metadata": {},
   "outputs": [],
   "source": [
    "# imports\n",
    "import pandas as pd\n",
    "import seaborn as sns\n",
    "import matplotlib.pyplot as plt\n",
    "from sklearn.pipeline import Pipeline\n",
    "from sklearn.compose import ColumnTransformer\n",
    "from sklearn.impute import SimpleImputer\n",
    "from sklearn.preprocessing import StandardScaler\n",
    "from sklearn.preprocessing import OneHotEncoder\n",
    "from sklearn.tree import DecisionTreeClassifier\n",
    "from sklearn.tree import DecisionTreeRegressor\n",
    "from sklearn.neighbors import KNeighborsClassifier\n",
    "from sklearn.neighbors import KNeighborsRegressor\n",
    "from sklearn.model_selection import GridSearchCV\n",
    "from sklearn.metrics import mean_absolute_error\n",
    "import numpy as np\n",
    "from joblib import dump"
   ]
  },
  {
   "cell_type": "markdown",
   "metadata": {},
   "source": [
    "### Data"
   ]
  },
  {
   "cell_type": "code",
   "execution_count": 2,
   "metadata": {},
   "outputs": [],
   "source": [
    "# load data\n",
    "wine_train = pd.read_parquet(\n",
    "    \"https://cs307.org/lab/data/wine-train.parquet\",\n",
    ")\n",
    "wine_test = pd.read_parquet(\n",
    "    \"https://cs307.org/lab/data/wine-test.parquet\",\n",
    ")\n",
    "\n",
    "# create X and y for train\n",
    "X_train = wine_train.drop(\"quality\", axis=1)\n",
    "y_train = wine_train[\"quality\"]\n",
    "\n",
    "# create X and y for test\n",
    "X_test = wine_test.drop(\"quality\", axis=1)\n",
    "y_test = wine_test[\"quality\"]"
   ]
  },
  {
   "cell_type": "markdown",
   "metadata": {},
   "source": [
    "Each observation in the dataset contains information about a particular Portuguese Vinho Verde wine. The data was sourced from UC Irvine Machine Learning Repository. The data dictionary is detailed below.\n",
    "\n",
    "### Response\n",
    "**`quality`**\n",
    "- [int64] the quality of the wine based on evaluation by a minimum of three sensory assessors (using blind tastes), which graded the wine in a scale that ranges from 0 (very bad) to 10 (excellent)\n",
    "\n",
    "### Features\n",
    "**`color`**\n",
    "- [object] the (human perceivable) color of the wine, red or white\n",
    "\n",
    "**`fixed acidity`**\n",
    "- [float64] grams of tartaric acid per cubic decimeter\n",
    "\n",
    "**`volatile acidity`**\n",
    "- [float64] grams of acetic acid per cubic decimeter\n",
    "\n",
    "**`citric acid`**\n",
    "- [float64] grams of citric acid per cubic decimeter\n",
    "\n",
    "**`residual sugar`**\n",
    "- [float64] grams of residual sugar per cubic decimeter\n",
    "\n",
    "**`chlorides`**\n",
    "- [float64] grams of sodium chloride cubic decimeter\n",
    "\n",
    "**`free sulfur dioxide`**\n",
    "- [float64] milligrams of free sulfur dioxide per cubic decimeter\n",
    "\n",
    "**`total sulfur dioxide`**\n",
    "- [float64] milligrams of total sulfur dioxide per cubic decimeter\n",
    "\n",
    "**`density`**\n",
    "- [float64] the total density of the wine in grams per cubic centimeter\n",
    "\n",
    "**`pH`**\n",
    "- [float64] the acidity of the wine measured using pH\n",
    "\n",
    "**`sulphates`**\n",
    "- [float64] grams of potassium sulphate cubic decimeter\n",
    "\n",
    "**`alcohol`**\n",
    "- [float64] percent alcohol by volume"
   ]
  },
  {
   "cell_type": "code",
   "execution_count": 3,
   "metadata": {},
   "outputs": [
    {
     "data": {
      "text/html": [
       "<div>\n",
       "<style scoped>\n",
       "    .dataframe tbody tr th:only-of-type {\n",
       "        vertical-align: middle;\n",
       "    }\n",
       "\n",
       "    .dataframe tbody tr th {\n",
       "        vertical-align: top;\n",
       "    }\n",
       "\n",
       "    .dataframe thead th {\n",
       "        text-align: right;\n",
       "    }\n",
       "</style>\n",
       "<table border=\"1\" class=\"dataframe\">\n",
       "  <thead>\n",
       "    <tr style=\"text-align: right;\">\n",
       "      <th></th>\n",
       "      <th>fixed acidity</th>\n",
       "      <th>volatile acidity</th>\n",
       "      <th>citric acid</th>\n",
       "      <th>residual sugar</th>\n",
       "      <th>chlorides</th>\n",
       "      <th>free sulfur dioxide</th>\n",
       "      <th>total sulfur dioxide</th>\n",
       "      <th>density</th>\n",
       "      <th>pH</th>\n",
       "      <th>sulphates</th>\n",
       "      <th>alcohol</th>\n",
       "      <th>quality</th>\n",
       "      <th>color</th>\n",
       "    </tr>\n",
       "  </thead>\n",
       "  <tbody>\n",
       "    <tr>\n",
       "      <th>2556</th>\n",
       "      <td>7.6</td>\n",
       "      <td>0.23</td>\n",
       "      <td>0.64</td>\n",
       "      <td>12.9</td>\n",
       "      <td>0.033</td>\n",
       "      <td>54.0</td>\n",
       "      <td>170.0</td>\n",
       "      <td>0.99800</td>\n",
       "      <td>3.00</td>\n",
       "      <td>0.53</td>\n",
       "      <td>8.8</td>\n",
       "      <td>5</td>\n",
       "      <td>white</td>\n",
       "    </tr>\n",
       "    <tr>\n",
       "      <th>1237</th>\n",
       "      <td>NaN</td>\n",
       "      <td>0.75</td>\n",
       "      <td>0.01</td>\n",
       "      <td>2.2</td>\n",
       "      <td>0.059</td>\n",
       "      <td>11.0</td>\n",
       "      <td>18.0</td>\n",
       "      <td>0.99242</td>\n",
       "      <td>3.39</td>\n",
       "      <td>0.40</td>\n",
       "      <td>NaN</td>\n",
       "      <td>6</td>\n",
       "      <td>red</td>\n",
       "    </tr>\n",
       "    <tr>\n",
       "      <th>303</th>\n",
       "      <td>7.4</td>\n",
       "      <td>0.67</td>\n",
       "      <td>0.12</td>\n",
       "      <td>1.6</td>\n",
       "      <td>0.186</td>\n",
       "      <td>5.0</td>\n",
       "      <td>21.0</td>\n",
       "      <td>0.99600</td>\n",
       "      <td>3.39</td>\n",
       "      <td>0.54</td>\n",
       "      <td>9.5</td>\n",
       "      <td>5</td>\n",
       "      <td>red</td>\n",
       "    </tr>\n",
       "    <tr>\n",
       "      <th>1583</th>\n",
       "      <td>6.4</td>\n",
       "      <td>0.18</td>\n",
       "      <td>0.74</td>\n",
       "      <td>NaN</td>\n",
       "      <td>0.046</td>\n",
       "      <td>54.0</td>\n",
       "      <td>168.0</td>\n",
       "      <td>0.99780</td>\n",
       "      <td>3.58</td>\n",
       "      <td>0.68</td>\n",
       "      <td>10.1</td>\n",
       "      <td>5</td>\n",
       "      <td>white</td>\n",
       "    </tr>\n",
       "    <tr>\n",
       "      <th>4697</th>\n",
       "      <td>6.7</td>\n",
       "      <td>0.35</td>\n",
       "      <td>0.32</td>\n",
       "      <td>9.0</td>\n",
       "      <td>0.032</td>\n",
       "      <td>29.0</td>\n",
       "      <td>113.0</td>\n",
       "      <td>0.99188</td>\n",
       "      <td>3.13</td>\n",
       "      <td>0.65</td>\n",
       "      <td>12.9</td>\n",
       "      <td>7</td>\n",
       "      <td>white</td>\n",
       "    </tr>\n",
       "    <tr>\n",
       "      <th>...</th>\n",
       "      <td>...</td>\n",
       "      <td>...</td>\n",
       "      <td>...</td>\n",
       "      <td>...</td>\n",
       "      <td>...</td>\n",
       "      <td>...</td>\n",
       "      <td>...</td>\n",
       "      <td>...</td>\n",
       "      <td>...</td>\n",
       "      <td>...</td>\n",
       "      <td>...</td>\n",
       "      <td>...</td>\n",
       "      <td>...</td>\n",
       "    </tr>\n",
       "    <tr>\n",
       "      <th>2013</th>\n",
       "      <td>6.6</td>\n",
       "      <td>0.32</td>\n",
       "      <td>0.22</td>\n",
       "      <td>16.7</td>\n",
       "      <td>0.046</td>\n",
       "      <td>38.0</td>\n",
       "      <td>133.0</td>\n",
       "      <td>0.99790</td>\n",
       "      <td>3.22</td>\n",
       "      <td>0.67</td>\n",
       "      <td>10.4</td>\n",
       "      <td>6</td>\n",
       "      <td>white</td>\n",
       "    </tr>\n",
       "    <tr>\n",
       "      <th>905</th>\n",
       "      <td>9.2</td>\n",
       "      <td>0.58</td>\n",
       "      <td>0.20</td>\n",
       "      <td>3.0</td>\n",
       "      <td>0.081</td>\n",
       "      <td>15.0</td>\n",
       "      <td>115.0</td>\n",
       "      <td>0.99800</td>\n",
       "      <td>3.23</td>\n",
       "      <td>0.59</td>\n",
       "      <td>9.5</td>\n",
       "      <td>5</td>\n",
       "      <td>red</td>\n",
       "    </tr>\n",
       "    <tr>\n",
       "      <th>247</th>\n",
       "      <td>8.2</td>\n",
       "      <td>0.60</td>\n",
       "      <td>0.17</td>\n",
       "      <td>2.3</td>\n",
       "      <td>0.072</td>\n",
       "      <td>11.0</td>\n",
       "      <td>73.0</td>\n",
       "      <td>0.99630</td>\n",
       "      <td>3.20</td>\n",
       "      <td>0.45</td>\n",
       "      <td>9.3</td>\n",
       "      <td>5</td>\n",
       "      <td>red</td>\n",
       "    </tr>\n",
       "    <tr>\n",
       "      <th>2707</th>\n",
       "      <td>6.5</td>\n",
       "      <td>0.23</td>\n",
       "      <td>0.36</td>\n",
       "      <td>16.3</td>\n",
       "      <td>0.038</td>\n",
       "      <td>43.0</td>\n",
       "      <td>133.0</td>\n",
       "      <td>0.99924</td>\n",
       "      <td>3.26</td>\n",
       "      <td>0.41</td>\n",
       "      <td>8.8</td>\n",
       "      <td>5</td>\n",
       "      <td>white</td>\n",
       "    </tr>\n",
       "    <tr>\n",
       "      <th>4754</th>\n",
       "      <td>6.4</td>\n",
       "      <td>0.19</td>\n",
       "      <td>0.35</td>\n",
       "      <td>10.2</td>\n",
       "      <td>0.043</td>\n",
       "      <td>40.0</td>\n",
       "      <td>106.0</td>\n",
       "      <td>0.99632</td>\n",
       "      <td>3.16</td>\n",
       "      <td>0.50</td>\n",
       "      <td>9.7</td>\n",
       "      <td>6</td>\n",
       "      <td>white</td>\n",
       "    </tr>\n",
       "  </tbody>\n",
       "</table>\n",
       "<p>4157 rows × 13 columns</p>\n",
       "</div>"
      ],
      "text/plain": [
       "      fixed acidity  volatile acidity  citric acid  residual sugar  chlorides  \\\n",
       "2556            7.6              0.23         0.64            12.9      0.033   \n",
       "1237            NaN              0.75         0.01             2.2      0.059   \n",
       "303             7.4              0.67         0.12             1.6      0.186   \n",
       "1583            6.4              0.18         0.74             NaN      0.046   \n",
       "4697            6.7              0.35         0.32             9.0      0.032   \n",
       "...             ...               ...          ...             ...        ...   \n",
       "2013            6.6              0.32         0.22            16.7      0.046   \n",
       "905             9.2              0.58         0.20             3.0      0.081   \n",
       "247             8.2              0.60         0.17             2.3      0.072   \n",
       "2707            6.5              0.23         0.36            16.3      0.038   \n",
       "4754            6.4              0.19         0.35            10.2      0.043   \n",
       "\n",
       "      free sulfur dioxide  total sulfur dioxide  density    pH  sulphates  \\\n",
       "2556                 54.0                 170.0  0.99800  3.00       0.53   \n",
       "1237                 11.0                  18.0  0.99242  3.39       0.40   \n",
       "303                   5.0                  21.0  0.99600  3.39       0.54   \n",
       "1583                 54.0                 168.0  0.99780  3.58       0.68   \n",
       "4697                 29.0                 113.0  0.99188  3.13       0.65   \n",
       "...                   ...                   ...      ...   ...        ...   \n",
       "2013                 38.0                 133.0  0.99790  3.22       0.67   \n",
       "905                  15.0                 115.0  0.99800  3.23       0.59   \n",
       "247                  11.0                  73.0  0.99630  3.20       0.45   \n",
       "2707                 43.0                 133.0  0.99924  3.26       0.41   \n",
       "4754                 40.0                 106.0  0.99632  3.16       0.50   \n",
       "\n",
       "      alcohol  quality  color  \n",
       "2556      8.8        5  white  \n",
       "1237      NaN        6    red  \n",
       "303       9.5        5    red  \n",
       "1583     10.1        5  white  \n",
       "4697     12.9        7  white  \n",
       "...       ...      ...    ...  \n",
       "2013     10.4        6  white  \n",
       "905       9.5        5    red  \n",
       "247       9.3        5    red  \n",
       "2707      8.8        5  white  \n",
       "4754      9.7        6  white  \n",
       "\n",
       "[4157 rows x 13 columns]"
      ]
     },
     "execution_count": 3,
     "metadata": {},
     "output_type": "execute_result"
    }
   ],
   "source": [
    "# summary statistics\n",
    "wine_train"
   ]
  },
  {
   "cell_type": "markdown",
   "metadata": {},
   "source": [
    "The dataset has 4157 samples and 12 features."
   ]
  },
  {
   "cell_type": "code",
   "execution_count": 4,
   "metadata": {},
   "outputs": [
    {
     "data": {
      "text/html": [
       "<div>\n",
       "<style scoped>\n",
       "    .dataframe tbody tr th:only-of-type {\n",
       "        vertical-align: middle;\n",
       "    }\n",
       "\n",
       "    .dataframe tbody tr th {\n",
       "        vertical-align: top;\n",
       "    }\n",
       "\n",
       "    .dataframe thead th {\n",
       "        text-align: right;\n",
       "    }\n",
       "</style>\n",
       "<table border=\"1\" class=\"dataframe\">\n",
       "  <thead>\n",
       "    <tr style=\"text-align: right;\">\n",
       "      <th></th>\n",
       "      <th>missing</th>\n",
       "      <th>% missing</th>\n",
       "    </tr>\n",
       "  </thead>\n",
       "  <tbody>\n",
       "    <tr>\n",
       "      <th>fixed acidity</th>\n",
       "      <td>170</td>\n",
       "      <td>0.040895</td>\n",
       "    </tr>\n",
       "    <tr>\n",
       "      <th>volatile acidity</th>\n",
       "      <td>0</td>\n",
       "      <td>0.000000</td>\n",
       "    </tr>\n",
       "    <tr>\n",
       "      <th>citric acid</th>\n",
       "      <td>199</td>\n",
       "      <td>0.047871</td>\n",
       "    </tr>\n",
       "    <tr>\n",
       "      <th>residual sugar</th>\n",
       "      <td>240</td>\n",
       "      <td>0.057734</td>\n",
       "    </tr>\n",
       "    <tr>\n",
       "      <th>chlorides</th>\n",
       "      <td>0</td>\n",
       "      <td>0.000000</td>\n",
       "    </tr>\n",
       "    <tr>\n",
       "      <th>free sulfur dioxide</th>\n",
       "      <td>24</td>\n",
       "      <td>0.005773</td>\n",
       "    </tr>\n",
       "    <tr>\n",
       "      <th>total sulfur dioxide</th>\n",
       "      <td>0</td>\n",
       "      <td>0.000000</td>\n",
       "    </tr>\n",
       "    <tr>\n",
       "      <th>density</th>\n",
       "      <td>0</td>\n",
       "      <td>0.000000</td>\n",
       "    </tr>\n",
       "    <tr>\n",
       "      <th>pH</th>\n",
       "      <td>236</td>\n",
       "      <td>0.056772</td>\n",
       "    </tr>\n",
       "    <tr>\n",
       "      <th>sulphates</th>\n",
       "      <td>223</td>\n",
       "      <td>0.053644</td>\n",
       "    </tr>\n",
       "    <tr>\n",
       "      <th>alcohol</th>\n",
       "      <td>196</td>\n",
       "      <td>0.047149</td>\n",
       "    </tr>\n",
       "    <tr>\n",
       "      <th>quality</th>\n",
       "      <td>0</td>\n",
       "      <td>0.000000</td>\n",
       "    </tr>\n",
       "    <tr>\n",
       "      <th>color</th>\n",
       "      <td>0</td>\n",
       "      <td>0.000000</td>\n",
       "    </tr>\n",
       "  </tbody>\n",
       "</table>\n",
       "</div>"
      ],
      "text/plain": [
       "                      missing  % missing\n",
       "fixed acidity             170   0.040895\n",
       "volatile acidity            0   0.000000\n",
       "citric acid               199   0.047871\n",
       "residual sugar            240   0.057734\n",
       "chlorides                   0   0.000000\n",
       "free sulfur dioxide        24   0.005773\n",
       "total sulfur dioxide        0   0.000000\n",
       "density                     0   0.000000\n",
       "pH                        236   0.056772\n",
       "sulphates                 223   0.053644\n",
       "alcohol                   196   0.047149\n",
       "quality                     0   0.000000\n",
       "color                       0   0.000000"
      ]
     },
     "execution_count": 4,
     "metadata": {},
     "output_type": "execute_result"
    }
   ],
   "source": [
    "# | echo: False\n",
    "pd.concat([pd.DataFrame(wine_train.isna().sum(), columns=['missing']), pd.DataFrame(wine_train.isna().sum() / len(wine_train), columns=['% missing'])], axis=1)"
   ]
  },
  {
   "cell_type": "markdown",
   "metadata": {},
   "source": [
    "About 7 variables contain around or less than 5% missing values and 6 variables contain no missing values."
   ]
  },
  {
   "cell_type": "code",
   "execution_count": 5,
   "metadata": {},
   "outputs": [
    {
     "data": {
      "image/png": "[encoded data removed]",
      "text/plain": [
       "<Figure size 640x480 with 2 Axes>"
      ]
     },
     "metadata": {},
     "output_type": "display_data"
    }
   ],
   "source": [
    "# | echo: False\n",
    "# exploratory visualization\n",
    "sns.heatmap(wine_train.corr(numeric_only=True), vmin=-1, vmax=1, cmap='RdBu')\n",
    "plt.title(\"Heatmap of Correlation between Variables\")\n",
    "plt.show()"
   ]
  },
  {
   "cell_type": "markdown",
   "metadata": {},
   "source": [
    "We see that quality has a few weak negative correlations and one weak positive correlation."
   ]
  },
  {
   "cell_type": "markdown",
   "metadata": {},
   "source": [
    "### Models"
   ]
  },
  {
   "cell_type": "code",
   "execution_count": 7,
   "metadata": {},
   "outputs": [],
   "source": [
    "# process data for ML\n",
    "numeric_features = ['fixed acidity', 'volatile acidity', 'citric acid', 'residual sugar', 'chlorides', 'free sulfur dioxide', 'total sulfur dioxide', 'density', 'pH', 'sulphates', 'alcohol']\n",
    "categorical_features = ['color']\n",
    "features = numeric_features + categorical_features\n",
    "target = 'quality'"
   ]
  },
  {
   "cell_type": "code",
   "execution_count": 8,
   "metadata": {},
   "outputs": [],
   "source": [
    "# train models\n",
    "numeric_pipeline = Pipeline(\n",
    "    steps=[\n",
    "        ('imputer', SimpleImputer(strategy='mean')),\n",
    "        ('scaler', StandardScaler()),\n",
    "    ]\n",
    ")\n",
    "\n",
    "categorical_pipeline = Pipeline(\n",
    "    steps=[\n",
    "        ('imputer', SimpleImputer(strategy='most_frequent')),\n",
    "        ('encoder', OneHotEncoder(handle_unknown='infrequent_if_exist')),\n",
    "    ]\n",
    ")\n",
    "\n",
    "preprocessor = ColumnTransformer(\n",
    "    transformers=[\n",
    "        (\"numeric\", numeric_pipeline, numeric_features),\n",
    "        (\"categoric\", categorical_pipeline, categorical_features),\n",
    "    ],\n",
    "    remainder='drop'\n",
    ")\n",
    "\n",
    "pipeline = Pipeline(\n",
    "    steps=[\n",
    "        ('preprocessor', preprocessor),\n",
    "        ('estimator', KNeighborsClassifier()),\n",
    "    ]\n",
    ")"
   ]
  },
  {
   "cell_type": "markdown",
   "metadata": {},
   "source": [
    "We will use a KNeighborsClassifier model to predict the target variable. We will impute missing values, scale numeric variables, and one-hot encode categorical variables."
   ]
  },
  {
   "cell_type": "code",
   "execution_count": 9,
   "metadata": {},
   "outputs": [
    {
     "name": "stderr",
     "output_type": "stream",
     "text": [
      "/Users/ryansponzilli/Developer/UIUC/cs307/.venv/lib/python3.12/site-packages/sklearn/model_selection/_split.py:805: UserWarning: The least populated class in y has only 2 members, which is less than n_splits=5.\n",
      "  warnings.warn(\n"
     ]
    }
   ],
   "source": [
    "param_grid = [{\n",
    "    \"estimator__n_neighbors\": range(10, 70, 1),\n",
    "    \"estimator__metric\": [\"euclidean\", \"manhattan\", \"chebyshev\", \"minkowski\"],\n",
    "    \"estimator__weights\": [\"uniform\", \"distance\"],\n",
    "}]\n",
    "\n",
    "model = GridSearchCV(pipeline, param_grid, scoring='neg_mean_absolute_error', refit=True)\n",
    "_ = model.fit(X_train, y_train)"
   ]
  },
  {
   "cell_type": "code",
   "execution_count": 17,
   "metadata": {},
   "outputs": [
    {
     "data": {
      "text/plain": [
       "{'estimator__metric': 'manhattan',\n",
       " 'estimator__n_neighbors': 46,\n",
       " 'estimator__weights': 'distance'}"
      ]
     },
     "execution_count": 17,
     "metadata": {},
     "output_type": "execute_result"
    }
   ],
   "source": [
    "model.best_params_"
   ]
  },
  {
   "cell_type": "code",
   "execution_count": 18,
   "metadata": {},
   "outputs": [
    {
     "data": {
      "text/plain": [
       "np.float64(-0.4228964176617606)"
      ]
     },
     "execution_count": 18,
     "metadata": {},
     "output_type": "execute_result"
    }
   ],
   "source": [
    "train_mae = model.best_score_\n",
    "train_mae"
   ]
  },
  {
   "cell_type": "markdown",
   "metadata": {},
   "source": [
    "After parameter tuning with cross validation, the best KNeighborsClassifier model uses 46 neighbors, mahatten distance, and distance weights. It acheives a train MAE of 0.422."
   ]
  },
  {
   "cell_type": "markdown",
   "metadata": {},
   "source": [
    "## Results"
   ]
  },
  {
   "cell_type": "code",
   "execution_count": 19,
   "metadata": {},
   "outputs": [
    {
     "data": {
      "text/plain": [
       "0.4"
      ]
     },
     "execution_count": 19,
     "metadata": {},
     "output_type": "execute_result"
    }
   ],
   "source": [
    "# report model metrics\n",
    "test_mae = mean_absolute_error(y_test, model.predict(X_test))\n",
    "test_mae"
   ]
  },
  {
   "cell_type": "markdown",
   "metadata": {},
   "source": [
    "The test data mean absolute error is 0.4."
   ]
  },
  {
   "cell_type": "code",
   "execution_count": 20,
   "metadata": {},
   "outputs": [
    {
     "data": {
      "text/plain": [
       "['wine.joblib']"
      ]
     },
     "execution_count": 20,
     "metadata": {},
     "output_type": "execute_result"
    }
   ],
   "source": [
    "# serialize model\n",
    "dump(model, 'wine.joblib')"
   ]
  },
  {
   "cell_type": "markdown",
   "metadata": {},
   "source": [
    "## Discussion"
   ]
  },
  {
   "cell_type": "markdown",
   "metadata": {},
   "source": [
    "I would recommend that this model be put into practice. Considering that the target `Quality` is on a 10 point scale and that the mean absolute error of the test dataset is 0.4, the wine quality prediction is quite close. Our AI sommelier would be able to rate different wines very close to how humans do, and I suspect that not every human wine quality rater rates it the exact same as each other, so if you think about it like that, our AI sommelier is just another person ranking the wine, and they will likely not be exactly the same as the other rankers, but pretty close. There are no major disadvantages to putting this model into practice; no customer will be the wiser if their wine is rated a half point off from what a trained professional might say. Furthermore, it is advantageous for any business to be able to use an AI sommelie because it would be substantially cheaper than hiring a trained professional."
   ]
  },
  {
   "cell_type": "code",
   "execution_count": 21,
   "metadata": {},
   "outputs": [
    {
     "data": {
      "image/png": "[encoded data removed]",
      "text/plain": [
       "<Figure size 1000x500 with 2 Axes>"
      ]
     },
     "metadata": {},
     "output_type": "display_data"
    }
   ],
   "source": [
    "# | echo: False\n",
    "# | lightbox: True\n",
    "\n",
    "# summary figure\n",
    "fig, ax = plt.subplots(1, 2, figsize=(10,5))\n",
    "ax[0].hist(y_train)\n",
    "ax[0].set_title(\"Train Distribution of Wine Quality\")\n",
    "ax[0].set_xlabel(\"Quality\")\n",
    "ax[0].set_ylabel(\"Count\")\n",
    "ax[1].hist(y_test)\n",
    "ax[1].set_title(\"Predicted Test Distribution of Wine Quality\")\n",
    "ax[1].set_xlabel(\"Quality\")\n",
    "ax[1].set_ylabel(\"Count\")\n",
    "plt.show()\n"
   ]
  },
  {
   "cell_type": "markdown",
   "metadata": {},
   "source": [
    "This figure demonstrates that the model predicts a very similar distribution of wine quality as the training dataset contains."
   ]
  }
 ],
 "metadata": {
  "kernelspec": {
   "display_name": ".venv",
   "language": "python",
   "name": "python3"
  },
  "language_info": {
   "codemirror_mode": {
    "name": "ipython",
    "version": 3
   },
   "file_extension": ".py",
   "mimetype": "text/x-python",
   "name": "python",
   "nbconvert_exporter": "python",
   "pygments_lexer": "ipython3",
   "version": "3.12.8"
  }
 },
 "nbformat": 4,
 "nbformat_minor": 2
}
