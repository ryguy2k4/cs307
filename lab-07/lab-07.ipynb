{
 "cells": [
  {
   "cell_type": "markdown",
   "metadata": {},
   "source": [
    "# Genetics"
   ]
  },
  {
   "cell_type": "markdown",
   "metadata": {},
   "source": [
    "---\n",
    "embed-resources: true\n",
    "---"
   ]
  },
  {
   "cell_type": "markdown",
   "metadata": {},
   "source": [
    "## Introduction"
   ]
  },
  {
   "cell_type": "markdown",
   "metadata": {},
   "source": [
    "The purpose of this report is to work towards a proof of concept that gene expression can be fed into a machine learning algorithm to detect and identify cancers. The model will classify a set of genes into one of five potential cancer types."
   ]
  },
  {
   "cell_type": "markdown",
   "metadata": {},
   "source": [
    "## Methods"
   ]
  },
  {
   "cell_type": "code",
   "execution_count": 230,
   "metadata": {},
   "outputs": [],
   "source": [
    "# imports\n",
    "import pandas as pd\n",
    "import numpy as np\n",
    "import matplotlib.pyplot as plt\n",
    "import seaborn as sns\n",
    "from joblib import dump\n",
    "\n",
    "# pipeline\n",
    "from sklearn.pipeline import Pipeline\n",
    "from sklearn.compose import ColumnTransformer\n",
    "\n",
    "# model selection\n",
    "from sklearn.model_selection import GridSearchCV\n",
    "from sklearn.tree import DecisionTreeClassifier\n",
    "from sklearn.neighbors import KNeighborsClassifier\n",
    "\n",
    "# tuning\n",
    "from sklearn.preprocessing import StandardScaler\n",
    "from sklearn.impute import SimpleImputer\n",
    "\n",
    "# metrics\n",
    "from sklearn.metrics import accuracy_score, confusion_matrix"
   ]
  },
  {
   "cell_type": "markdown",
   "metadata": {},
   "source": [
    "### Data"
   ]
  },
  {
   "cell_type": "code",
   "execution_count": 231,
   "metadata": {},
   "outputs": [],
   "source": [
    "# load data\n",
    "genetics_train = pd.read_parquet(\n",
    "    \"https://cs307.org/lab/data/genetics-train.parquet\",\n",
    ")\n",
    "genetics_test = pd.read_parquet(\n",
    "    \"https://cs307.org/lab/data/genetics-test.parquet\",\n",
    ")\n",
    "\n",
    "# create X and y for train\n",
    "X_train = genetics_train.drop(columns=[\"cancer\"])\n",
    "y_train = genetics_train[\"cancer\"]\n",
    "\n",
    "# create X and y for test\n",
    "X_test = genetics_test.drop(columns=[\"cancer\"])\n",
    "y_test = genetics_test[\"cancer\"]"
   ]
  },
  {
   "cell_type": "markdown",
   "metadata": {},
   "source": [
    "Each observation contains gene expression information from a tissue sample of a patient. The data dictionary is detailed below.\n",
    "\n",
    "### Response\n",
    "**`cancer`**\n",
    "\n",
    "- [object] the clinically determined cancer type, one of:\n",
    "    - BRCA: Breast Invasive Carcinoma\n",
    "    - PRAD: Prostate Adenocarcinoma\n",
    "    - KIRC: Kidney Renal Clear Cell Carcinoma\n",
    "    - LUAD: Lung Adenocarcinoma\n",
    "    - COAD: Colon Adenocarcinoma\n",
    "\n",
    "### Features\n",
    "**`gene_####`**\n",
    "- [float64] gene expression (for gene number #### in the dataset) quantification as measured by an Illumina HiSeq platform"
   ]
  },
  {
   "cell_type": "code",
   "execution_count": 232,
   "metadata": {},
   "outputs": [
    {
     "data": {
      "text/html": [
       "<div>\n",
       "<style scoped>\n",
       "    .dataframe tbody tr th:only-of-type {\n",
       "        vertical-align: middle;\n",
       "    }\n",
       "\n",
       "    .dataframe tbody tr th {\n",
       "        vertical-align: top;\n",
       "    }\n",
       "\n",
       "    .dataframe thead th {\n",
       "        text-align: right;\n",
       "    }\n",
       "</style>\n",
       "<table border=\"1\" class=\"dataframe\">\n",
       "  <thead>\n",
       "    <tr style=\"text-align: right;\">\n",
       "      <th></th>\n",
       "      <th>cancer</th>\n",
       "      <th>gene_0</th>\n",
       "      <th>gene_1</th>\n",
       "      <th>gene_2</th>\n",
       "      <th>gene_3</th>\n",
       "      <th>gene_4</th>\n",
       "      <th>gene_5</th>\n",
       "      <th>gene_6</th>\n",
       "      <th>gene_7</th>\n",
       "      <th>gene_8</th>\n",
       "      <th>...</th>\n",
       "      <th>gene_1990</th>\n",
       "      <th>gene_1991</th>\n",
       "      <th>gene_1992</th>\n",
       "      <th>gene_1993</th>\n",
       "      <th>gene_1994</th>\n",
       "      <th>gene_1995</th>\n",
       "      <th>gene_1996</th>\n",
       "      <th>gene_1997</th>\n",
       "      <th>gene_1998</th>\n",
       "      <th>gene_1999</th>\n",
       "    </tr>\n",
       "  </thead>\n",
       "  <tbody>\n",
       "    <tr>\n",
       "      <th>663</th>\n",
       "      <td>BRCA</td>\n",
       "      <td>0.0</td>\n",
       "      <td>3.149861</td>\n",
       "      <td>1.913454</td>\n",
       "      <td>5.562355</td>\n",
       "      <td>9.638586</td>\n",
       "      <td>0.0</td>\n",
       "      <td>4.302421</td>\n",
       "      <td>0.511670</td>\n",
       "      <td>0.000000</td>\n",
       "      <td>...</td>\n",
       "      <td>7.300691</td>\n",
       "      <td>8.383307</td>\n",
       "      <td>1.187198</td>\n",
       "      <td>0.000000</td>\n",
       "      <td>7.350471</td>\n",
       "      <td>0.0</td>\n",
       "      <td>4.634587</td>\n",
       "      <td>7.082415</td>\n",
       "      <td>9.727447</td>\n",
       "      <td>1.187198</td>\n",
       "    </tr>\n",
       "    <tr>\n",
       "      <th>148</th>\n",
       "      <td>LUAD</td>\n",
       "      <td>0.0</td>\n",
       "      <td>6.237034</td>\n",
       "      <td>5.043235</td>\n",
       "      <td>6.297397</td>\n",
       "      <td>10.391415</td>\n",
       "      <td>0.0</td>\n",
       "      <td>7.669941</td>\n",
       "      <td>0.913033</td>\n",
       "      <td>0.000000</td>\n",
       "      <td>...</td>\n",
       "      <td>6.322446</td>\n",
       "      <td>7.815595</td>\n",
       "      <td>13.809095</td>\n",
       "      <td>0.913033</td>\n",
       "      <td>7.651052</td>\n",
       "      <td>0.0</td>\n",
       "      <td>7.476074</td>\n",
       "      <td>4.733739</td>\n",
       "      <td>8.510863</td>\n",
       "      <td>0.000000</td>\n",
       "    </tr>\n",
       "    <tr>\n",
       "      <th>347</th>\n",
       "      <td>BRCA</td>\n",
       "      <td>0.0</td>\n",
       "      <td>3.856896</td>\n",
       "      <td>2.394981</td>\n",
       "      <td>6.758277</td>\n",
       "      <td>9.585513</td>\n",
       "      <td>0.0</td>\n",
       "      <td>7.409009</td>\n",
       "      <td>1.242023</td>\n",
       "      <td>0.000000</td>\n",
       "      <td>...</td>\n",
       "      <td>6.845515</td>\n",
       "      <td>9.194823</td>\n",
       "      <td>5.667696</td>\n",
       "      <td>0.000000</td>\n",
       "      <td>7.748253</td>\n",
       "      <td>0.0</td>\n",
       "      <td>5.567421</td>\n",
       "      <td>5.203158</td>\n",
       "      <td>7.364879</td>\n",
       "      <td>0.000000</td>\n",
       "    </tr>\n",
       "    <tr>\n",
       "      <th>496</th>\n",
       "      <td>PRAD</td>\n",
       "      <td>0.0</td>\n",
       "      <td>4.279924</td>\n",
       "      <td>3.606963</td>\n",
       "      <td>5.706613</td>\n",
       "      <td>9.716581</td>\n",
       "      <td>0.0</td>\n",
       "      <td>8.244226</td>\n",
       "      <td>0.402613</td>\n",
       "      <td>0.000000</td>\n",
       "      <td>...</td>\n",
       "      <td>6.598611</td>\n",
       "      <td>8.199118</td>\n",
       "      <td>5.024218</td>\n",
       "      <td>0.000000</td>\n",
       "      <td>7.607907</td>\n",
       "      <td>0.0</td>\n",
       "      <td>5.705281</td>\n",
       "      <td>6.278007</td>\n",
       "      <td>9.725383</td>\n",
       "      <td>0.000000</td>\n",
       "    </tr>\n",
       "    <tr>\n",
       "      <th>360</th>\n",
       "      <td>BRCA</td>\n",
       "      <td>0.0</td>\n",
       "      <td>3.359788</td>\n",
       "      <td>4.199986</td>\n",
       "      <td>6.144766</td>\n",
       "      <td>9.141834</td>\n",
       "      <td>0.0</td>\n",
       "      <td>9.014135</td>\n",
       "      <td>1.061776</td>\n",
       "      <td>0.626486</td>\n",
       "      <td>...</td>\n",
       "      <td>7.062651</td>\n",
       "      <td>9.670708</td>\n",
       "      <td>4.243707</td>\n",
       "      <td>0.000000</td>\n",
       "      <td>8.156811</td>\n",
       "      <td>0.0</td>\n",
       "      <td>7.363487</td>\n",
       "      <td>5.384844</td>\n",
       "      <td>8.703443</td>\n",
       "      <td>1.894876</td>\n",
       "    </tr>\n",
       "    <tr>\n",
       "      <th>...</th>\n",
       "      <td>...</td>\n",
       "      <td>...</td>\n",
       "      <td>...</td>\n",
       "      <td>...</td>\n",
       "      <td>...</td>\n",
       "      <td>...</td>\n",
       "      <td>...</td>\n",
       "      <td>...</td>\n",
       "      <td>...</td>\n",
       "      <td>...</td>\n",
       "      <td>...</td>\n",
       "      <td>...</td>\n",
       "      <td>...</td>\n",
       "      <td>...</td>\n",
       "      <td>...</td>\n",
       "      <td>...</td>\n",
       "      <td>...</td>\n",
       "      <td>...</td>\n",
       "      <td>...</td>\n",
       "      <td>...</td>\n",
       "      <td>...</td>\n",
       "    </tr>\n",
       "    <tr>\n",
       "      <th>455</th>\n",
       "      <td>KIRC</td>\n",
       "      <td>0.0</td>\n",
       "      <td>3.069737</td>\n",
       "      <td>3.623200</td>\n",
       "      <td>6.744955</td>\n",
       "      <td>9.591219</td>\n",
       "      <td>0.0</td>\n",
       "      <td>7.254254</td>\n",
       "      <td>0.000000</td>\n",
       "      <td>0.000000</td>\n",
       "      <td>...</td>\n",
       "      <td>7.333665</td>\n",
       "      <td>8.365334</td>\n",
       "      <td>5.481444</td>\n",
       "      <td>0.000000</td>\n",
       "      <td>7.307674</td>\n",
       "      <td>0.0</td>\n",
       "      <td>5.723447</td>\n",
       "      <td>5.401791</td>\n",
       "      <td>9.067881</td>\n",
       "      <td>0.000000</td>\n",
       "    </tr>\n",
       "    <tr>\n",
       "      <th>421</th>\n",
       "      <td>BRCA</td>\n",
       "      <td>0.0</td>\n",
       "      <td>3.534497</td>\n",
       "      <td>3.064866</td>\n",
       "      <td>6.638882</td>\n",
       "      <td>10.010206</td>\n",
       "      <td>0.0</td>\n",
       "      <td>7.899387</td>\n",
       "      <td>0.000000</td>\n",
       "      <td>0.000000</td>\n",
       "      <td>...</td>\n",
       "      <td>7.080615</td>\n",
       "      <td>9.968912</td>\n",
       "      <td>10.501041</td>\n",
       "      <td>0.000000</td>\n",
       "      <td>8.866052</td>\n",
       "      <td>0.0</td>\n",
       "      <td>5.276806</td>\n",
       "      <td>4.941073</td>\n",
       "      <td>8.548240</td>\n",
       "      <td>0.000000</td>\n",
       "    </tr>\n",
       "    <tr>\n",
       "      <th>677</th>\n",
       "      <td>BRCA</td>\n",
       "      <td>0.0</td>\n",
       "      <td>4.087463</td>\n",
       "      <td>3.786596</td>\n",
       "      <td>6.385845</td>\n",
       "      <td>9.544964</td>\n",
       "      <td>0.0</td>\n",
       "      <td>8.062856</td>\n",
       "      <td>0.000000</td>\n",
       "      <td>0.000000</td>\n",
       "      <td>...</td>\n",
       "      <td>5.842979</td>\n",
       "      <td>9.931033</td>\n",
       "      <td>10.234817</td>\n",
       "      <td>0.000000</td>\n",
       "      <td>8.384568</td>\n",
       "      <td>0.0</td>\n",
       "      <td>7.033423</td>\n",
       "      <td>5.749534</td>\n",
       "      <td>8.132371</td>\n",
       "      <td>0.000000</td>\n",
       "    </tr>\n",
       "    <tr>\n",
       "      <th>697</th>\n",
       "      <td>LUAD</td>\n",
       "      <td>0.0</td>\n",
       "      <td>3.272889</td>\n",
       "      <td>4.529234</td>\n",
       "      <td>7.134909</td>\n",
       "      <td>9.504362</td>\n",
       "      <td>0.0</td>\n",
       "      <td>5.668893</td>\n",
       "      <td>0.000000</td>\n",
       "      <td>0.000000</td>\n",
       "      <td>...</td>\n",
       "      <td>7.300966</td>\n",
       "      <td>8.040350</td>\n",
       "      <td>11.972872</td>\n",
       "      <td>0.000000</td>\n",
       "      <td>7.592607</td>\n",
       "      <td>0.0</td>\n",
       "      <td>5.026256</td>\n",
       "      <td>6.137704</td>\n",
       "      <td>8.780947</td>\n",
       "      <td>1.167936</td>\n",
       "    </tr>\n",
       "    <tr>\n",
       "      <th>376</th>\n",
       "      <td>KIRC</td>\n",
       "      <td>0.0</td>\n",
       "      <td>3.217851</td>\n",
       "      <td>2.142315</td>\n",
       "      <td>6.024548</td>\n",
       "      <td>9.537583</td>\n",
       "      <td>0.0</td>\n",
       "      <td>7.910391</td>\n",
       "      <td>1.974419</td>\n",
       "      <td>0.000000</td>\n",
       "      <td>...</td>\n",
       "      <td>7.372552</td>\n",
       "      <td>8.358203</td>\n",
       "      <td>4.966864</td>\n",
       "      <td>0.406537</td>\n",
       "      <td>7.673309</td>\n",
       "      <td>0.0</td>\n",
       "      <td>5.561448</td>\n",
       "      <td>5.163124</td>\n",
       "      <td>8.101991</td>\n",
       "      <td>1.849679</td>\n",
       "    </tr>\n",
       "  </tbody>\n",
       "</table>\n",
       "<p>128 rows × 2001 columns</p>\n",
       "</div>"
      ],
      "text/plain": [
       "    cancer  gene_0    gene_1    gene_2    gene_3     gene_4  gene_5    gene_6  \\\n",
       "663   BRCA     0.0  3.149861  1.913454  5.562355   9.638586     0.0  4.302421   \n",
       "148   LUAD     0.0  6.237034  5.043235  6.297397  10.391415     0.0  7.669941   \n",
       "347   BRCA     0.0  3.856896  2.394981  6.758277   9.585513     0.0  7.409009   \n",
       "496   PRAD     0.0  4.279924  3.606963  5.706613   9.716581     0.0  8.244226   \n",
       "360   BRCA     0.0  3.359788  4.199986  6.144766   9.141834     0.0  9.014135   \n",
       "..     ...     ...       ...       ...       ...        ...     ...       ...   \n",
       "455   KIRC     0.0  3.069737  3.623200  6.744955   9.591219     0.0  7.254254   \n",
       "421   BRCA     0.0  3.534497  3.064866  6.638882  10.010206     0.0  7.899387   \n",
       "677   BRCA     0.0  4.087463  3.786596  6.385845   9.544964     0.0  8.062856   \n",
       "697   LUAD     0.0  3.272889  4.529234  7.134909   9.504362     0.0  5.668893   \n",
       "376   KIRC     0.0  3.217851  2.142315  6.024548   9.537583     0.0  7.910391   \n",
       "\n",
       "       gene_7    gene_8  ...  gene_1990  gene_1991  gene_1992  gene_1993  \\\n",
       "663  0.511670  0.000000  ...   7.300691   8.383307   1.187198   0.000000   \n",
       "148  0.913033  0.000000  ...   6.322446   7.815595  13.809095   0.913033   \n",
       "347  1.242023  0.000000  ...   6.845515   9.194823   5.667696   0.000000   \n",
       "496  0.402613  0.000000  ...   6.598611   8.199118   5.024218   0.000000   \n",
       "360  1.061776  0.626486  ...   7.062651   9.670708   4.243707   0.000000   \n",
       "..        ...       ...  ...        ...        ...        ...        ...   \n",
       "455  0.000000  0.000000  ...   7.333665   8.365334   5.481444   0.000000   \n",
       "421  0.000000  0.000000  ...   7.080615   9.968912  10.501041   0.000000   \n",
       "677  0.000000  0.000000  ...   5.842979   9.931033  10.234817   0.000000   \n",
       "697  0.000000  0.000000  ...   7.300966   8.040350  11.972872   0.000000   \n",
       "376  1.974419  0.000000  ...   7.372552   8.358203   4.966864   0.406537   \n",
       "\n",
       "     gene_1994  gene_1995  gene_1996  gene_1997  gene_1998  gene_1999  \n",
       "663   7.350471        0.0   4.634587   7.082415   9.727447   1.187198  \n",
       "148   7.651052        0.0   7.476074   4.733739   8.510863   0.000000  \n",
       "347   7.748253        0.0   5.567421   5.203158   7.364879   0.000000  \n",
       "496   7.607907        0.0   5.705281   6.278007   9.725383   0.000000  \n",
       "360   8.156811        0.0   7.363487   5.384844   8.703443   1.894876  \n",
       "..         ...        ...        ...        ...        ...        ...  \n",
       "455   7.307674        0.0   5.723447   5.401791   9.067881   0.000000  \n",
       "421   8.866052        0.0   5.276806   4.941073   8.548240   0.000000  \n",
       "677   8.384568        0.0   7.033423   5.749534   8.132371   0.000000  \n",
       "697   7.592607        0.0   5.026256   6.137704   8.780947   1.167936  \n",
       "376   7.673309        0.0   5.561448   5.163124   8.101991   1.849679  \n",
       "\n",
       "[128 rows x 2001 columns]"
      ]
     },
     "execution_count": 232,
     "metadata": {},
     "output_type": "execute_result"
    }
   ],
   "source": [
    "# summary statistics\n",
    "genetics_train"
   ]
  },
  {
   "cell_type": "markdown",
   "metadata": {},
   "source": [
    "The dataset has 128 samples and 2000 features."
   ]
  },
  {
   "cell_type": "code",
   "execution_count": 233,
   "metadata": {},
   "outputs": [
    {
     "data": {
      "text/html": [
       "<div>\n",
       "<style scoped>\n",
       "    .dataframe tbody tr th:only-of-type {\n",
       "        vertical-align: middle;\n",
       "    }\n",
       "\n",
       "    .dataframe tbody tr th {\n",
       "        vertical-align: top;\n",
       "    }\n",
       "\n",
       "    .dataframe thead th {\n",
       "        text-align: right;\n",
       "    }\n",
       "</style>\n",
       "<table border=\"1\" class=\"dataframe\">\n",
       "  <thead>\n",
       "    <tr style=\"text-align: right;\">\n",
       "      <th></th>\n",
       "      <th>count</th>\n",
       "      <th>proportion</th>\n",
       "    </tr>\n",
       "    <tr>\n",
       "      <th>cancer</th>\n",
       "      <th></th>\n",
       "      <th></th>\n",
       "    </tr>\n",
       "  </thead>\n",
       "  <tbody>\n",
       "    <tr>\n",
       "      <th>BRCA</th>\n",
       "      <td>47</td>\n",
       "      <td>0.367188</td>\n",
       "    </tr>\n",
       "    <tr>\n",
       "      <th>LUAD</th>\n",
       "      <td>28</td>\n",
       "      <td>0.218750</td>\n",
       "    </tr>\n",
       "    <tr>\n",
       "      <th>PRAD</th>\n",
       "      <td>24</td>\n",
       "      <td>0.187500</td>\n",
       "    </tr>\n",
       "    <tr>\n",
       "      <th>KIRC</th>\n",
       "      <td>19</td>\n",
       "      <td>0.148438</td>\n",
       "    </tr>\n",
       "    <tr>\n",
       "      <th>COAD</th>\n",
       "      <td>10</td>\n",
       "      <td>0.078125</td>\n",
       "    </tr>\n",
       "  </tbody>\n",
       "</table>\n",
       "</div>"
      ],
      "text/plain": [
       "        count  proportion\n",
       "cancer                   \n",
       "BRCA       47    0.367188\n",
       "LUAD       28    0.218750\n",
       "PRAD       24    0.187500\n",
       "KIRC       19    0.148438\n",
       "COAD       10    0.078125"
      ]
     },
     "execution_count": 233,
     "metadata": {},
     "output_type": "execute_result"
    }
   ],
   "source": [
    "# | echo: False\n",
    "pd.concat([genetics_train['cancer'].value_counts(),genetics_train['cancer'].value_counts(normalize=True)],axis=1)"
   ]
  },
  {
   "cell_type": "markdown",
   "metadata": {},
   "source": [
    "Class imbalance is not too major."
   ]
  },
  {
   "cell_type": "code",
   "execution_count": 234,
   "metadata": {},
   "outputs": [
    {
     "data": {
      "image/png": "[encoded data removed]",
      "text/plain": [
       "<Figure size 640x480 with 1 Axes>"
      ]
     },
     "metadata": {},
     "output_type": "display_data"
    }
   ],
   "source": [
    "# | echo: False\n",
    "# | lightbox: True\n",
    "# exploratory visualization\n",
    "plt.hist(genetics_train['cancer'], color='orange')\n",
    "plt.title(\"Distribution of Cancer Types\")\n",
    "plt.ylabel('Count')\n",
    "plt.xlabel(\"Cancer Type\")\n",
    "plt.show()"
   ]
  },
  {
   "cell_type": "markdown",
   "metadata": {},
   "source": [
    "This histogram visualizes the distribution of cancer types in the training dataset"
   ]
  },
  {
   "cell_type": "markdown",
   "metadata": {},
   "source": [
    "### Models"
   ]
  },
  {
   "cell_type": "code",
   "execution_count": 235,
   "metadata": {},
   "outputs": [],
   "source": [
    "# process data for ML\n",
    "target = 'cancer'\n",
    "features = X_train.columns"
   ]
  },
  {
   "cell_type": "code",
   "execution_count": 236,
   "metadata": {},
   "outputs": [],
   "source": [
    "# train models\n",
    "num_pipeline = Pipeline(\n",
    "    steps=[\n",
    "        ('imputer', SimpleImputer(strategy='median'))\n",
    "    ]\n",
    ")\n",
    "\n",
    "preprocessor = ColumnTransformer(\n",
    "    transformers=[\n",
    "        ('numeric', num_pipeline, features)\n",
    "    ],\n",
    "    remainder='drop'\n",
    ")\n",
    "\n",
    "pipeline = Pipeline(\n",
    "    steps=[\n",
    "        ('preprocessor', preprocessor),\n",
    "        ('estimator', DecisionTreeClassifier())\n",
    "    ]\n",
    ")"
   ]
  },
  {
   "cell_type": "code",
   "execution_count": 237,
   "metadata": {},
   "outputs": [
    {
     "name": "stderr",
     "output_type": "stream",
     "text": [
      "/Users/ryansponzilli/Developer/UIUC/cs307/.venv/lib/python3.12/site-packages/joblib/externals/loky/process_executor.py:752: UserWarning: A worker stopped while some jobs were given to the executor. This can be caused by a too short worker timeout or by a memory leak.\n",
      "  warnings.warn(\n"
     ]
    }
   ],
   "source": [
    "param_grid = [\n",
    "    {\n",
    "        \"estimator\": [DecisionTreeClassifier()],\n",
    "        \"estimator__max_depth\": range(2, 50, 3),\n",
    "    },\n",
    "        {\n",
    "        \"estimator\": [DecisionTreeClassifier()],\n",
    "        \"estimator__min_samples_split\": range(2, 50, 3),\n",
    "    },\n",
    "    {\n",
    "        \"estimator\": [KNeighborsClassifier()],\n",
    "        \"estimator__n_neighbors\": range(1, 100, 1),\n",
    "    },\n",
    "]\n",
    "\n",
    "model = GridSearchCV(pipeline, param_grid, scoring='accuracy', cv=5, refit=True, n_jobs=-1)\n",
    "_ = model.fit(X_train, y_train)"
   ]
  },
  {
   "cell_type": "code",
   "execution_count": 238,
   "metadata": {},
   "outputs": [
    {
     "data": {
      "text/plain": [
       "({'estimator': KNeighborsClassifier(), 'estimator__n_neighbors': 1},\n",
       " np.float64(0.9923076923076923))"
      ]
     },
     "execution_count": 238,
     "metadata": {},
     "output_type": "execute_result"
    }
   ],
   "source": [
    "model.best_params_, model.best_score_"
   ]
  },
  {
   "cell_type": "markdown",
   "metadata": {},
   "source": [
    "After model selection and parameter tuning with cross validation, the chosen model is a `KNNeighborsClassifier` with `n_neighbors = 1` This acheives the highest train accuracy and test accuracy."
   ]
  },
  {
   "cell_type": "markdown",
   "metadata": {},
   "source": [
    "## Results"
   ]
  },
  {
   "cell_type": "code",
   "execution_count": 243,
   "metadata": {},
   "outputs": [
    {
     "name": "stdout",
     "output_type": "stream",
     "text": [
      "Test Accuracy: 1.0\n"
     ]
    }
   ],
   "source": [
    "# report model metrics\n",
    "y_pred = model.predict(X_test)\n",
    "test_accuracy = accuracy_score(y_test, y_pred)\n",
    "print(f\"Test Accuracy: {test_accuracy}\")"
   ]
  },
  {
   "cell_type": "markdown",
   "metadata": {},
   "source": [
    "This model produces a test accuracy score of 100%."
   ]
  },
  {
   "cell_type": "code",
   "execution_count": 245,
   "metadata": {},
   "outputs": [
    {
     "data": {
      "text/plain": [
       "['genetics.joblib']"
      ]
     },
     "execution_count": 245,
     "metadata": {},
     "output_type": "execute_result"
    }
   ],
   "source": [
    "# | echo: false\n",
    "# | output: false\n",
    "# serialize model\n",
    "dump(model, 'genetics.joblib')"
   ]
  },
  {
   "cell_type": "markdown",
   "metadata": {},
   "source": [
    "## Discussion"
   ]
  },
  {
   "cell_type": "code",
   "execution_count": 253,
   "metadata": {},
   "outputs": [
    {
     "data": {
      "image/png": "[encoded data removed]",
      "text/plain": [
       "<Figure size 600x500 with 2 Axes>"
      ]
     },
     "metadata": {},
     "output_type": "display_data"
    }
   ],
   "source": [
    "# | echo: False\n",
    "# | lightbox: True\n",
    "cm = confusion_matrix(y_test, y_pred)\n",
    "plt.figure(figsize=(6, 5))\n",
    "sns.heatmap(cm, annot=True, fmt='d', cmap='Blues')\n",
    "plt.xlabel('Predicted')\n",
    "plt.ylabel('Actual')\n",
    "plt.title('Confusion Matrix')\n",
    "plt.show()"
   ]
  },
  {
   "cell_type": "markdown",
   "metadata": {},
   "source": [
    "I would recommend against putting this model into practice. Even though the test accuracy is 100%, we have a relatively small sample size and `n_neighbors = 1` is likely overfitting the model. Considering the life and death nature of cancer, a model with concerns like this should never actually be used. However, as a proof of concept, I believe that this model demonstrates that with a much larger dataset and more careful model selection and parameter tuning, machine learning could be *somewhat useful* when diagnosing cancer patients."
   ]
  }
 ],
 "metadata": {
  "kernelspec": {
   "display_name": ".venv",
   "language": "python",
   "name": "python3"
  },
  "language_info": {
   "codemirror_mode": {
    "name": "ipython",
    "version": 3
   },
   "file_extension": ".py",
   "mimetype": "text/x-python",
   "name": "python",
   "nbconvert_exporter": "python",
   "pygments_lexer": "ipython3",
   "version": "3.12.8"
  }
 },
 "nbformat": 4,
 "nbformat_minor": 2
}
